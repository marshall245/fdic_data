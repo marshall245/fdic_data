{
 "cells": [
  {
   "cell_type": "markdown",
   "metadata": {},
   "source": [
    "# Query Using CosmosDB SQL"
   ]
  },
  {
   "cell_type": "markdown",
   "metadata": {},
   "source": [
    "If CosmosDB were used during the ETL process the following syntax would be available to us. The sql query below would return the table following:"
   ]
  },
  {
   "cell_type": "markdown",
   "metadata": {},
   "source": [
    "```SQL\n",
    "SELECT fdic_certificate_number as fdic_id, \n",
    "        financial_institution_name as institution,\n",
    "        reporting_period_end_date as datestring, \n",
    "        financials.RCFD2170 as assets_total\n",
    "FROM ffeic_reports\n",
    "\n",
    "```"
   ]
  },
  {
   "cell_type": "markdown",
   "metadata": {},
   "source": [
    "| fdic_id | institution | datestring | assets_total |\n",
    "|---------|-------------|------------|--------------|\n",
    "| 3510    | Bank of Am. | 2017-01-01 | 170098.9     |\n",
    "| 3510    | Bank of Am. | 2017-03-01 | 1699098.9    |"
   ]
  },
  {
   "cell_type": "markdown",
   "metadata": {},
   "source": [
    "Using the first query as a sub query in the next step would yield the pivoted result."
   ]
  },
  {
   "cell_type": "markdown",
   "metadata": {},
   "source": [
    "```SQL\n",
    "SELECT datestring,\n",
    "    sum(case when fdic_id = 3510 then assets_total else 0 as aa) as bank_of_america,\n",
    "    sum(case when fdic_id = 3511 then assets_total else 0 as bb) as wells_fargo,\n",
    "    sum(case when fdic_id = 628 then assets_total else 0 as cc) as jp_morgan,\n",
    "    sum(case when fdic_id = 7213 then assets_total else 0 as dd) as citi,\n",
    "    sum(case when fdic_id = 32188 then assets_total else 0 as ee) as usaa,\n",
    "FROM (\n",
    "    SELECT fdic_certificate_number as fdic_id, \n",
    "        financial_institution_name as institution,\n",
    "        reporting_period_end_date as datestring, \n",
    "        financials.RCFD2170 as assets_total\n",
    "    FROM ffeic_reports ) AA\n",
    "GROUP BY datestring\n",
    "```"
   ]
  },
  {
   "cell_type": "markdown",
   "metadata": {},
   "source": [
    "| datestring | bank_of_america | wells_fargo | jp_morgan |   citi  | usaa   |\n",
    "|------------|-----------------|-------------|-----------|---------|--------|\n",
    "| 2017-01-01 |  12345.6        |   12345.6   |  12345.6  | 12345.6 | 12345.6|\n",
    "| 2017-03-01 |  12345.6        |   12345.6   |  12345.6  | 12345.6 | 12345.6|\n",
    "| 2017-06-01 |  12345.6        |   12345.6   |  12345.6  | 12345.6 | 12345.6|"
   ]
  },
  {
   "cell_type": "markdown",
   "metadata": {},
   "source": [
    "Due to the structure of the records we can filter on date and fdic identifier as well. If these were larger tables the indicies defined on these keys would facilitate optimized query speeds."
   ]
  },
  {
   "cell_type": "markdown",
   "metadata": {},
   "source": [
    "```SQL\n",
    "SELECT fdic_certificate_number as fdic_id, \n",
    "        financial_institution_name as institution,\n",
    "        reporting_period_end_date as datestring, \n",
    "        financials.RCFD2170 as assets_total\n",
    "FROM ffeic_reports\n",
    "WHERE reporting_period_end_date >= '2017-01-01' and \n",
    "    fdic_certificate_number in (3510, 3511, 628, 7213, 32188)\n",
    "```"
   ]
  },
  {
   "cell_type": "markdown",
   "metadata": {},
   "source": [
    "Placing this query into the larger query for pivoting above would yield an optimal filtered query in the pivoted format. "
   ]
  },
  {
   "cell_type": "markdown",
   "metadata": {},
   "source": [
    "```SQL\n",
    "SELECT datestring,\n",
    "    sum(case when fdic_id = 3510 then assets_total else 0 as aa) as bank_of_america,\n",
    "    sum(case when fdic_id = 3511 then assets_total else 0 as bb) as wells_fargo,\n",
    "    sum(case when fdic_id = 628 then assets_total else 0 as cc) as jp_morgan,\n",
    "    sum(case when fdic_id = 7213 then assets_total else 0 as dd) as citi,\n",
    "    sum(case when fdic_id = 32188 then assets_total else 0 as ee) as usaa,\n",
    "FROM (\n",
    "    SELECT fdic_certificate_number as fdic_id, \n",
    "        financial_institution_name as institution,\n",
    "        reporting_period_end_date as datestring, \n",
    "        financials.RCFD2170 as assets_total\n",
    "    FROM ffeic_reports\n",
    "    WHERE reporting_period_end_date >= '2017-01-01' and \n",
    "        fdic_certificate_number in (3510, XXXX, XXXX, XXXX)) AA\n",
    "GROUP BY datestring\n",
    "```"
   ]
  }
 ],
 "metadata": {
  "kernelspec": {
   "display_name": "Python 3",
   "language": "python",
   "name": "python3"
  },
  "language_info": {
   "codemirror_mode": {
    "name": "ipython",
    "version": 3
   },
   "file_extension": ".py",
   "mimetype": "text/x-python",
   "name": "python",
   "nbconvert_exporter": "python",
   "pygments_lexer": "ipython3",
   "version": "3.6.1"
  }
 },
 "nbformat": 4,
 "nbformat_minor": 2
}
