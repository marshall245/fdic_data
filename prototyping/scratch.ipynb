{
 "cells": [
  {
   "cell_type": "markdown",
   "metadata": {},
   "source": [
    "# Scratch Pad"
   ]
  },
  {
   "cell_type": "code",
   "execution_count": 1,
   "metadata": {},
   "outputs": [],
   "source": [
    "import re\n",
    "import etl\n",
    "import math\n",
    "import pandas as pd\n",
    "\n",
    "from copy import copy"
   ]
  },
  {
   "cell_type": "markdown",
   "metadata": {},
   "source": [
    "## Reference Files"
   ]
  },
  {
   "cell_type": "code",
   "execution_count": 2,
   "metadata": {
    "collapsed": true
   },
   "outputs": [],
   "source": [
    "MDRM_FILE = '/Users/admin/notebooks/fdic_data/financial_data_raw/mdrm_codes'\n",
    "FDIC_FILE = '/Users/admin/Downloads/FFIEC CDR Call Bulk Subset of Schedules 2017/FFIEC CDR Call Subset of Schedules 2017(1 of 2).txt'\n",
    "FDIC_FILE2 = '/Users/admin/Downloads/FFIEC CDR Call Bulk Subset of Schedules 2017/FFIEC CDR Call Subset of Schedules 2017(2 of 2).txt'"
   ]
  },
  {
   "cell_type": "markdown",
   "metadata": {},
   "source": [
    "## Connect to Mongo Instance for Prototyping"
   ]
  },
  {
   "cell_type": "code",
   "execution_count": 3,
   "metadata": {
    "collapsed": true
   },
   "outputs": [],
   "source": [
    "import pymongo as mongo"
   ]
  },
  {
   "cell_type": "code",
   "execution_count": 4,
   "metadata": {
    "collapsed": true
   },
   "outputs": [],
   "source": [
    "client = mongo.MongoClient()"
   ]
  },
  {
   "cell_type": "code",
   "execution_count": 5,
   "metadata": {},
   "outputs": [
    {
     "data": {
      "text/plain": [
       "['admin', 'ffeic_bank', 'local']"
      ]
     },
     "execution_count": 5,
     "metadata": {},
     "output_type": "execute_result"
    }
   ],
   "source": [
    "client.database_names()"
   ]
  },
  {
   "cell_type": "code",
   "execution_count": 6,
   "metadata": {
    "collapsed": true
   },
   "outputs": [],
   "source": [
    "db = client['ffeic_bank']"
   ]
  },
  {
   "cell_type": "markdown",
   "metadata": {},
   "source": [
    "## Load ETL Instances"
   ]
  },
  {
   "cell_type": "code",
   "execution_count": 7,
   "metadata": {},
   "outputs": [],
   "source": [
    "mdrm_etl = etl.MDRMInfoETL(MDRM_FILE)"
   ]
  },
  {
   "cell_type": "code",
   "execution_count": 8,
   "metadata": {
    "scrolled": true
   },
   "outputs": [],
   "source": [
    "fdic_etl = etl.FDICDataETL(FDIC_FILE, [10057, 3510])"
   ]
  },
  {
   "cell_type": "code",
   "execution_count": 9,
   "metadata": {
    "collapsed": true
   },
   "outputs": [],
   "source": [
    "company_etl = etl.FDICCompanyInfoETL(FDIC_FILE, [10057, 3510])"
   ]
  },
  {
   "cell_type": "markdown",
   "metadata": {},
   "source": [
    "###### Drop a Collection"
   ]
  },
  {
   "cell_type": "code",
   "execution_count": 10,
   "metadata": {
    "collapsed": true
   },
   "outputs": [],
   "source": [
    "# db.drop_collection('financial_data')"
   ]
  },
  {
   "cell_type": "code",
   "execution_count": 11,
   "metadata": {
    "collapsed": true
   },
   "outputs": [],
   "source": [
    "# db.drop_collection('ffeic_reporting')"
   ]
  },
  {
   "cell_type": "code",
   "execution_count": 12,
   "metadata": {
    "collapsed": true
   },
   "outputs": [],
   "source": [
    "# db.drop_collection('company_info')"
   ]
  },
  {
   "cell_type": "code",
   "execution_count": 13,
   "metadata": {
    "collapsed": true
   },
   "outputs": [],
   "source": [
    "# db.drop_collection('mdrm_details')"
   ]
  },
  {
   "cell_type": "markdown",
   "metadata": {},
   "source": [
    "###### Load Initial Data"
   ]
  },
  {
   "cell_type": "code",
   "execution_count": 14,
   "metadata": {},
   "outputs": [],
   "source": [
    "ffeic_coll = db['ffeic_reporting']\n",
    "comp_coll = db['company_info']\n",
    "mdrm_coll = db['mdrm_details']"
   ]
  },
  {
   "cell_type": "code",
   "execution_count": 15,
   "metadata": {
    "collapsed": true
   },
   "outputs": [],
   "source": [
    "fdic_trans = fdic_etl.transform()"
   ]
  },
  {
   "cell_type": "code",
   "execution_count": 16,
   "metadata": {},
   "outputs": [],
   "source": [
    "fdic_etl.load(ffeic_coll, fdic_trans)"
   ]
  },
  {
   "cell_type": "code",
   "execution_count": 17,
   "metadata": {
    "collapsed": true
   },
   "outputs": [],
   "source": [
    "newfdic_etl = etl.FDICDataETL(FDIC_FILE2, [10057, 3510])"
   ]
  },
  {
   "cell_type": "code",
   "execution_count": 18,
   "metadata": {
    "collapsed": true
   },
   "outputs": [],
   "source": [
    "newfdic_trans = newfdic_etl.transform()"
   ]
  },
  {
   "cell_type": "code",
   "execution_count": 19,
   "metadata": {},
   "outputs": [],
   "source": [
    "newfdic_etl.load(ffeic_coll, newfdic_trans)"
   ]
  },
  {
   "cell_type": "code",
   "execution_count": 20,
   "metadata": {
    "collapsed": true
   },
   "outputs": [],
   "source": [
    "mdrm_trans = mdrm_etl.transform()"
   ]
  },
  {
   "cell_type": "code",
   "execution_count": 21,
   "metadata": {
    "scrolled": true
   },
   "outputs": [],
   "source": [
    "mdrm_etl.load(mdrm_coll, mdrm_trans)"
   ]
  },
  {
   "cell_type": "code",
   "execution_count": 22,
   "metadata": {},
   "outputs": [],
   "source": [
    "comp_trans = company_etl.transform()"
   ]
  },
  {
   "cell_type": "code",
   "execution_count": 23,
   "metadata": {},
   "outputs": [],
   "source": [
    "company_etl.load(comp_coll, comp_trans)"
   ]
  },
  {
   "cell_type": "code",
   "execution_count": 24,
   "metadata": {},
   "outputs": [
    {
     "data": {
      "text/plain": [
       "['trial', 'ffeic_reporting', 'mdrm_details', 'company_info']"
      ]
     },
     "execution_count": 24,
     "metadata": {},
     "output_type": "execute_result"
    }
   ],
   "source": [
    "db.collection_names()"
   ]
  },
  {
   "cell_type": "code",
   "execution_count": 25,
   "metadata": {},
   "outputs": [
    {
     "name": "stdout",
     "output_type": "stream",
     "text": [
      "{'_id': ObjectId('5945f6bedbc55442038c69ca'), 'record_updated': '2017-03-31', 'financial_institution_name': 'BANK OF HANCOCK COUNTY', 'fdic_certificate_number': 10057, 'location': {'financial_institution_address': '12855 BROAD STREET ', 'financial_institution_city': 'SPARTA', 'financial_institution_state': 'GA', 'financial_institution_zip_code': 31087}, 'identifiers': {'idrssd': 37, 'occ_charter_number': 0, 'ots_docket_number': 16553, 'primary_aba_routing_number': 61107146, 'financial_institution_filing_type': 51}}\n",
      "{'_id': ObjectId('5945f6bedbc55442038c69cb'), 'record_updated': '2017-03-31', 'financial_institution_name': 'BANK OF AMERICA, NATIONAL ASSOCIATION', 'fdic_certificate_number': 3510, 'location': {'financial_institution_address': '100 NORTH TRYON STREET, SUITE 170 ', 'financial_institution_city': 'CHARLOTTE', 'financial_institution_state': 'NC', 'financial_institution_zip_code': 28202}, 'identifiers': {'idrssd': 480228, 'occ_charter_number': 13044, 'ots_docket_number': 0, 'primary_aba_routing_number': 53000196, 'financial_institution_filing_type': 31}}\n"
     ]
    }
   ],
   "source": [
    "for item in comp_coll.find():\n",
    "    print(item)"
   ]
  },
  {
   "cell_type": "code",
   "execution_count": 26,
   "metadata": {
    "collapsed": true
   },
   "outputs": [
    {
     "name": "stdout",
     "output_type": "stream",
     "text": [
      "{'_id': ObjectId('5945f6bcdbc55442038c66bf'), 'reporting_period_end_date': '2017-03-31', 'financial_institution_name': 'BANK OF HANCOCK COUNTY', 'fdic_certificate_number': 10057, 'last_datetime_submission_updated_on': '2017-04-24T12:00:12', 'financials': {'RCFD0071': nan, 'RCFD0081': nan, 'RCFD0426': nan, 'RCFD1248': nan, 'RCFD1249': nan, 'RCFD1250': nan, 'RCFD1251': nan, 'RCFD1252': nan, 'RCFD1253': nan, 'RCFD1254': nan, 'RCFD1255': nan, 'RCFD1256': nan, 'RCFD1403': nan, 'RCFD1406': nan, 'RCFD1407': nan, 'RCFD1583': nan, 'RCFD1594': nan, 'RCFD1597': nan, 'RCFD1754': nan, 'RCFD1773': nan, 'RCFD2130': nan, 'RCFD2145': nan, 'RCFD2150': nan, 'RCFD2160': nan, 'RCFD2170': nan, 'RCFD2930': nan, 'RCFD2948': nan, 'RCFD3000': nan, 'RCFD3123': nan, 'RCFD3163': nan, 'RCFD3190': nan, 'RCFD3200': nan, 'RCFD3210': nan, 'RCFD3230': nan, 'RCFD3300': nan, 'RCFD3505': nan, 'RCFD3506': nan, 'RCFD3507': nan, 'RCFD3529': nan, 'RCFD3530': nan, 'RCFD3545': nan, 'RCFD3548': nan, 'RCFD3632': nan, 'RCFD3656': nan, 'RCFD3838': nan, 'RCFD3839': nan, 'RCFD5369': nan, 'RCFD5377': nan, 'RCFD5378': nan, 'RCFD5379': nan, 'RCFD5380': nan, 'RCFD5381': nan, 'RCFD5382': nan, 'RCFD5389': nan, 'RCFD5390': nan, 'RCFD5391': nan, 'RCFD5459': nan, 'RCFD5460': nan, 'RCFD5461': nan, 'RCFD6558': nan, 'RCFD6559': nan, 'RCFD6560': nan, 'RCFD6724': nan, 'RCFDA130': nan, 'RCFDB528': nan, 'RCFDB529': nan, 'RCFDB530': nan, 'RCFDB575': nan, 'RCFDB576': nan, 'RCFDB577': nan, 'RCFDB989': nan, 'RCFDB995': nan, 'RCFDC226': nan, 'RCFDC240': nan, 'RCFDC241': nan, 'RCFDC410': nan, 'RCFDC411': nan, 'RCFDF166': nan, 'RCFDF167': nan, 'RCFDF168': nan, 'RCFDF169': nan, 'RCFDF170': nan, 'RCFDF171': nan, 'RCFDF664': nan, 'RCFDF665': nan, 'RCFDF666': nan, 'RCFDF667': nan, 'RCFDF668': nan, 'RCFDF669': nan, 'RCFDG105': nan, 'RCFDHK26': nan, 'RCFDHK27': nan, 'RCFDHK28': nan, 'RCFDK036': nan, 'RCFDK037': nan, 'RCFDK038': nan, 'RCFDK039': nan, 'RCFDK040': nan, 'RCFDK041': nan, 'RCFDK042': nan, 'RCFDK043': nan, 'RCFDK044': nan, 'RCFDK087': nan, 'RCFDK088': nan, 'RCFDK089': nan, 'RCFDK102': nan, 'RCFDK103': nan, 'RCFDK104': nan, 'RCFDK120': nan, 'RCFDK121': nan, 'RCFDK122': nan, 'RCFDK123': nan, 'RCFDK124': nan, 'RCFDK125': nan, 'RCFDK126': nan, 'RCFDK127': nan, 'RCFDK128': nan, 'RCFDK138': nan, 'RCFDK139': nan, 'RCFDK140': nan, 'RCFDK213': nan, 'RCFDK214': nan, 'RCFDK215': nan, 'RCFDK216': nan, 'RCFDK217': nan, 'RCFDK218': nan, 'RCFDK274': nan, 'RCFDK275': nan, 'RCFDK276': nan, 'RCFDK277': nan, 'RCFDK278': nan, 'RCFDK279': nan, 'RCFDK280': nan, 'RCFDK281': nan, 'RCFDK282': nan, 'RCFDL183': nan, 'RCFDL184': nan, 'RCFDL185': nan, 'RCFDL186': nan, 'RCFDL187': nan, 'RCFDL188': nan, 'RCFN2200': nan, 'RCFN6631': nan, 'RCFN6636': nan, 'RCFNB572': nan, 'RCFNB573': nan, 'RCFNB574': nan, 'RCON0071': 7533.0, 'RCON0081': 1656.0, 'RCON0426': 0.0, 'RCON1226': 0.0, 'RCON1227': 0.0, 'RCON1228': 0.0, 'RCON1248': nan, 'RCON1249': nan, 'RCON1250': nan, 'RCON1254': nan, 'RCON1255': nan, 'RCON1256': nan, 'RCON1403': 257.0, 'RCON1406': 1319.0, 'RCON1407': 101.0, 'RCON1583': nan, 'RCON1594': nan, 'RCON1597': nan, 'RCON1606': 43.0, 'RCON1607': 0.0, 'RCON1608': 0.0, 'RCON1754': 0, 'RCON1773': 49398, 'RCON2130': 0.0, 'RCON2145': 403.0, 'RCON2150': 0.0, 'RCON2160': 1243.0, 'RCON2170': 85808, 'RCON2200': 71240, 'RCON2930': 179.0, 'RCON2948': 71419, 'RCON3000': 0.0, 'RCON3123': 1020.0, 'RCON3163': 0.0, 'RCON3190': 0, 'RCON3200': 0.0, 'RCON3210': 14389.0, 'RCON3230': 1200.0, 'RCON3300': 85808.0, 'RCON3493': 0, 'RCON3494': 2, 'RCON3495': 0, 'RCON3499': 0, 'RCON3500': 0, 'RCON3501': 0, 'RCON3505': 0.0, 'RCON3506': 0.0, 'RCON3507': 0.0, 'RCON3545': 0.0, 'RCON3548': 0.0, 'RCON3632': 9728.0, 'RCON3656': 0.0, 'RCON3838': 0.0, 'RCON3839': 3500.0, 'RCON5369': 0.0, 'RCON5380': nan, 'RCON5381': nan, 'RCON5382': nan, 'RCON5398': 0, 'RCON5399': 0, 'RCON5400': 0, 'RCON5459': 0.0, 'RCON5460': 0.0, 'RCON5461': 0.0, 'RCON6558': 0.0, 'RCON6559': 0.0, 'RCON6560': 0.0, 'RCON6631': 16358, 'RCON6636': 54882, 'RCON6724': '1a', 'RCON8678': 1231, 'RCONA130': 0.0, 'RCONB528': 26595.0, 'RCONB529': 25575.0, 'RCONB530': -39.0, 'RCONB575': 0.0, 'RCONB576': 0.0, 'RCONB577': 0.0, 'RCONB834': 0.0, 'RCONB835': 0.0, 'RCONB836': 0.0, 'RCONB987': 0, 'RCONB989': 0, 'RCONB993': 0, 'RCONB995': 0, 'RCONC226': nan, 'RCONC229': 207, 'RCONC230': 0, 'RCONC236': 875, 'RCONC237': 55, 'RCONC238': 0, 'RCONC239': 0, 'RCONC240': nan, 'RCONF175': 37, 'RCONF179': 249, 'RCONG105': 14389.0, 'RCONK213': 104.0, 'RCONK215': 48.0, 'RCONK216': 48.0, 'RCONK217': 7.0, 'RCONK218': 2.0, 'RIAD0093': 8, 'RIAD3196': 51, 'RIAD4010': 494, 'RIAD4012': 64, 'RIAD4058': 3.0, 'RIAD4060': 268, 'RIAD4073': 75, 'RIAD4074': 769, 'RIAD4079': 74, 'RIAD4080': 39, 'RIAD4092': 232, 'RIAD4093': 655, 'RIAD4107': 844, 'RIAD4115': 15, 'RIAD4135': 369, 'RIAD4150': 23, 'RIAD4217': 54, 'RIAD4230': 5, 'RIAD4300': 198, 'RIAD4301': 234, 'RIAD4302': 36, 'RIAD4340': 198, 'RIAD4435': 215, 'RIAD4436': 61, 'RIAD4507': 237, 'RIAD4508': 4, 'RIAD4513': 16, 'RIAD4518': 3, 'RIADB486': 151, 'RIADB488': 27, 'RIADB489': 37, 'RIADB497': 35, 'RIADG104': 198, 'RIADHK03': 62, 'RIADHK04': 1}}\n",
      "{'_id': ObjectId('5945f6bcdbc55442038c66c0'), 'reporting_period_end_date': '2017-03-31', 'financial_institution_name': 'BANK OF AMERICA, NATIONAL ASSOCIATION', 'fdic_certificate_number': 3510, 'last_datetime_submission_updated_on': '2017-05-05T15:05:20', 'financials': {'RCFD0071': 127456000.0, 'RCFD0081': 23423000.0, 'RCFD0426': 2822000.0, 'RCFD1248': 0.0, 'RCFD1249': 0.0, 'RCFD1250': 0.0, 'RCFD1251': 1088000.0, 'RCFD1252': 290000.0, 'RCFD1253': 970000.0, 'RCFD1254': 157000.0, 'RCFD1255': 1000.0, 'RCFD1256': 480000.0, 'RCFD1403': 7395000.0, 'RCFD1406': 6312000.0, 'RCFD1407': 5993000.0, 'RCFD1583': 28000.0, 'RCFD1594': 1000.0, 'RCFD1597': 0.0, 'RCFD1754': 116033000.0, 'RCFD1773': 292278000.0, 'RCFD2130': 4025000.0, 'RCFD2145': 8796000.0, 'RCFD2150': 345000.0, 'RCFD2160': 79453000.0, 'RCFD2170': 1707215000.0, 'RCFD2930': 29973000.0, 'RCFD2948': 1502146000.0, 'RCFD3000': 10000.0, 'RCFD3123': 10894000.0, 'RCFD3163': 57227000.0, 'RCFD3190': 64764000.0, 'RCFD3200': 2986000.0, 'RCFD3210': 205059000.0, 'RCFD3230': 3020000.0, 'RCFD3300': 1707215000.0, 'RCFD3505': 67000.0, 'RCFD3506': 71000.0, 'RCFD3507': 65000.0, 'RCFD3529': 1000.0, 'RCFD3530': 0.0, 'RCFD3545': 76708000.0, 'RCFD3548': 33508000.0, 'RCFD3632': 36250000.0, 'RCFD3656': 6872000.0, 'RCFD3838': 0.0, 'RCFD3839': 170690000.0, 'RCFD5369': 14395000.0, 'RCFD5377': 0.0, 'RCFD5378': 0.0, 'RCFD5379': 0.0, 'RCFD5380': 0.0, 'RCFD5381': 0.0, 'RCFD5382': 0.0, 'RCFD5389': 0.0, 'RCFD5390': 0.0, 'RCFD5391': 2000.0, 'RCFD5459': 187000.0, 'RCFD5460': 8000.0, 'RCFD5461': 42000.0, 'RCFD6558': 57000.0, 'RCFD6559': 3000.0, 'RCFD6560': 7000.0, 'RCFD6724': '2a', 'RCFDA130': 0.0, 'RCFDB528': 881122000.0, 'RCFDB529': 870228000.0, 'RCFDB530': -4901000.0, 'RCFDB575': 779000.0, 'RCFDB576': 801000.0, 'RCFDB577': 0.0, 'RCFDB989': 27154000.0, 'RCFDB995': 22831000.0, 'RCFDC226': 369000.0, 'RCFDC240': 53000.0, 'RCFDC241': 82000.0, 'RCFDC410': 1302000.0, 'RCFDC411': 184000.0, 'RCFDF166': 6000.0, 'RCFDF167': 0.0, 'RCFDF168': 0.0, 'RCFDF169': 182000.0, 'RCFDF170': 9000.0, 'RCFDF171': 38000.0, 'RCFDF664': 27000.0, 'RCFDF665': 1000.0, 'RCFDF666': 89000.0, 'RCFDF667': 27000.0, 'RCFDF668': 1000.0, 'RCFDF669': 96000.0, 'RCFDG105': 205069000.0, 'RCFDHK26': 888000.0, 'RCFDHK27': 2248000.0, 'RCFDHK28': 3728000.0, 'RCFDK036': 1263000.0, 'RCFDK037': 4212000.0, 'RCFDK038': 518000.0, 'RCFDK039': 490000.0, 'RCFDK040': 538000.0, 'RCFDK041': 51000.0, 'RCFDK042': 744000.0, 'RCFDK043': 3674000.0, 'RCFDK044': 378000.0, 'RCFDK087': 0.0, 'RCFDK088': 0.0, 'RCFDK089': 0.0, 'RCFDK102': 0.0, 'RCFDK103': 0.0, 'RCFDK104': 0.0, 'RCFDK120': 12000.0, 'RCFDK121': 20000.0, 'RCFDK122': 455000.0, 'RCFDK123': 0.0, 'RCFDK124': 0.0, 'RCFDK125': 13000.0, 'RCFDK126': 58000.0, 'RCFDK127': 61000.0, 'RCFDK128': 22000.0, 'RCFDK138': 0.0, 'RCFDK139': 0.0, 'RCFDK140': 0.0, 'RCFDK213': 223000.0, 'RCFDK214': 21000.0, 'RCFDK215': 13000.0, 'RCFDK216': 75000.0, 'RCFDK217': 14000.0, 'RCFDK218': 8000.0, 'RCFDK274': 0.0, 'RCFDK275': 0.0, 'RCFDK276': 0.0, 'RCFDK277': 0.0, 'RCFDK278': 0.0, 'RCFDK279': 0.0, 'RCFDK280': 0.0, 'RCFDK281': 0.0, 'RCFDK282': 0.0, 'RCFDL183': 606000.0, 'RCFDL184': 791000.0, 'RCFDL185': 0.0, 'RCFDL186': 586000.0, 'RCFDL187': 630000.0, 'RCFDL188': 0.0, 'RCFN2200': 74563000.0, 'RCFN6631': 10660000.0, 'RCFN6636': 63903000.0, 'RCFNB572': 0.0, 'RCFNB573': 0.0, 'RCFNB574': 0.0, 'RCON0071': nan, 'RCON0081': nan, 'RCON0426': nan, 'RCON1226': nan, 'RCON1227': nan, 'RCON1228': nan, 'RCON1248': nan, 'RCON1249': nan, 'RCON1250': nan, 'RCON1254': nan, 'RCON1255': nan, 'RCON1256': nan, 'RCON1403': nan, 'RCON1406': nan, 'RCON1407': nan, 'RCON1583': nan, 'RCON1594': nan, 'RCON1597': nan, 'RCON1606': nan, 'RCON1607': nan, 'RCON1608': nan, 'RCON1754': 116033000, 'RCON1773': 286547000, 'RCON2130': nan, 'RCON2145': nan, 'RCON2150': nan, 'RCON2160': nan, 'RCON2170': 1618293000, 'RCON2200': 1273468000, 'RCON2930': nan, 'RCON2948': 1413224000, 'RCON3000': nan, 'RCON3123': nan, 'RCON3163': nan, 'RCON3190': 63446000, 'RCON3200': nan, 'RCON3210': nan, 'RCON3230': nan, 'RCON3300': nan, 'RCON3493': 12000, 'RCON3494': 0, 'RCON3495': 90000, 'RCON3499': 3000, 'RCON3500': 0, 'RCON3501': 4000, 'RCON3505': nan, 'RCON3506': nan, 'RCON3507': nan, 'RCON3545': 59392000.0, 'RCON3548': 29730000.0, 'RCON3632': nan, 'RCON3656': nan, 'RCON3838': nan, 'RCON3839': nan, 'RCON5369': nan, 'RCON5380': nan, 'RCON5381': nan, 'RCON5382': nan, 'RCON5398': 548000, 'RCON5399': 70000, 'RCON5400': 2663000, 'RCON5459': nan, 'RCON5460': nan, 'RCON5461': nan, 'RCON6558': nan, 'RCON6559': nan, 'RCON6560': nan, 'RCON6631': 463939000, 'RCON6636': 809529000, 'RCON6724': nan, 'RCON8678': 1231, 'RCONA130': nan, 'RCONB528': nan, 'RCONB529': nan, 'RCONB530': nan, 'RCONB575': nan, 'RCONB576': nan, 'RCONB577': nan, 'RCONB834': nan, 'RCONB835': nan, 'RCONB836': nan, 'RCONB987': 0, 'RCONB989': 17892000, 'RCONB993': 53000, 'RCONB995': 21726000, 'RCONC226': nan, 'RCONC229': 2433000, 'RCONC230': 177000, 'RCONC236': 2866000, 'RCONC237': 4709000, 'RCONC238': 72000, 'RCONC239': 60000, 'RCONC240': nan, 'RCONF172': 2000, 'RCONF173': 14000, 'RCONF175': 2000, 'RCONF176': 4000, 'RCONF177': 208000, 'RCONF178': 81000, 'RCONF179': 16000, 'RCONF180': 8000, 'RCONF182': 154000, 'RCONF183': 81000, 'RCONF661': 790000, 'RCONF662': 2167000, 'RCONF663': 3014000, 'RCONK107': 2000, 'RCONK110': 167000, 'RCONK114': 28000, 'RCONK116': 39000, 'RCONK119': 16000, 'RIAD0093': 74000, 'RIAD3196': 49000, 'RIAD4010': 8493000, 'RIAD4012': 1611000, 'RIAD4020': 82000, 'RIAD4024': 6000.0, 'RIAD4056': 8000.0, 'RIAD4059': 568000.0, 'RIAD4060': 135000, 'RIAD4065': 293000, 'RIAD4069': 242000.0, 'RIAD4070': 447000, 'RIAD4073': 535000, 'RIAD4074': 11467000, 'RIAD4079': 6070000, 'RIAD4080': 1381000, 'RIAD4092': 3503000, 'RIAD4093': 9604000, 'RIAD4107': 12002000, 'RIAD4115': 211000, 'RIAD4135': 4858000, 'RIAD4150': 145436, 'RIAD4172': 81000.0, 'RIAD4180': 38000, 'RIAD4185': 237000.0, 'RIAD4200': 18000.0, 'RIAD4217': 1161000, 'RIAD4230': 794000, 'RIAD4300': 4887000, 'RIAD4301': 7188000, 'RIAD4302': 2301000, 'RIAD4313': 47000, 'RIAD4340': 4887000, 'RIAD4435': 2113000, 'RIAD4436': 723000, 'RIAD4507': 14000, 'RIAD4508': 17000, 'RIAD4513': 1000, 'RIAD4518': 288000, 'RIAD5416': -69000, 'RIAD8431': 95000.0, 'RIAD8757': 84000.0, 'RIAD8758': 337000.0, 'RIAD8759': 215000.0, 'RIAD8760': 65000.0, 'RIADA220': 849000.0, 'RIADA251': 2000.0, 'RIADB485': 2444000, 'RIADB486': 524000, 'RIADB487': 496000.0, 'RIADB488': 172000, 'RIADB489': 2086000, 'RIADB492': 65000, 'RIADB493': 19000, 'RIADB496': 12000, 'RIADB497': 2946000, 'RIADC232': 82000, 'RIADC387': 6000, 'RIADC886': 145000, 'RIADC888': 269000, 'RIADC890': -16000.0, 'RIADF186': 148000.0, 'RIADF551': 1548000.0, 'RIADF552': 31000.0, 'RIADF553': -12000.0, 'RIADF554': 38000.0, 'RIADFT36': 70000.0, 'RIADFT37': -69000.0, 'RIADFT38': -72000.0, 'RIADFT39': 30000.0, 'RIADFT40': 849000.0, 'RIADG104': 4887000, 'RIADH032': 404000.0, 'RIADH033': 259000.0, 'RIADH034': 85000.0, 'RIADH035': 633000.0, 'RIADHK03': 43000, 'RIADHK04': 27000, 'RIADJ321': 3000}}\n"
     ]
    }
   ],
   "source": [
    "for item in ffeic_coll.find():\n",
    "    print(item)"
   ]
  },
  {
   "cell_type": "code",
   "execution_count": null,
   "metadata": {
    "collapsed": true
   },
   "outputs": [],
   "source": [
    "db.drop_collection('ffeic_reporting')"
   ]
  },
  {
   "cell_type": "code",
   "execution_count": null,
   "metadata": {
    "collapsed": true
   },
   "outputs": [],
   "source": [
    "db.drop_collection('mdrm_details')"
   ]
  },
  {
   "cell_type": "code",
   "execution_count": null,
   "metadata": {
    "collapsed": true
   },
   "outputs": [],
   "source": [
    "db.drop_collection('company_info')"
   ]
  },
  {
   "cell_type": "markdown",
   "metadata": {},
   "source": [
    "# Prototyping"
   ]
  },
  {
   "cell_type": "code",
   "execution_count": null,
   "metadata": {
    "collapsed": true
   },
   "outputs": [],
   "source": [
    "dctold = {'id': 1, 'date': '2017-01-01', 'sub':{'a': 1, 'b': float('nan'), 'c': 7}}\n",
    "dctnew = {'id': 1, 'date': '2017-01-01', 'sub':{'a': float('nan'), 'b': 5, 'c': 3}}"
   ]
  },
  {
   "cell_type": "code",
   "execution_count": null,
   "metadata": {
    "collapsed": true
   },
   "outputs": [],
   "source": [
    "def prep_update(dctold, dctnew):\n",
    "    for key, value in dctnew.items():\n",
    "        if isinstance(value, dict):\n",
    "            prep_update(dctold[key], value)\n",
    "        elif value and not (isinstance(value, (int, float)) and math.isnan(value)):\n",
    "            dctold[key] = value"
   ]
  },
  {
   "cell_type": "code",
   "execution_count": null,
   "metadata": {
    "collapsed": true
   },
   "outputs": [],
   "source": [
    "cop = dctold.copy()"
   ]
  },
  {
   "cell_type": "code",
   "execution_count": null,
   "metadata": {
    "scrolled": true
   },
   "outputs": [],
   "source": [
    "prep_update(cop, dctnew)"
   ]
  },
  {
   "cell_type": "code",
   "execution_count": null,
   "metadata": {},
   "outputs": [],
   "source": [
    "cop"
   ]
  },
  {
   "cell_type": "code",
   "execution_count": null,
   "metadata": {
    "collapsed": true
   },
   "outputs": [],
   "source": []
  }
 ],
 "metadata": {
  "kernelspec": {
   "display_name": "Python 3",
   "language": "python",
   "name": "python3"
  },
  "language_info": {
   "codemirror_mode": {
    "name": "ipython",
    "version": 3
   },
   "file_extension": ".py",
   "mimetype": "text/x-python",
   "name": "python",
   "nbconvert_exporter": "python",
   "pygments_lexer": "ipython3",
   "version": "3.6.1"
  }
 },
 "nbformat": 4,
 "nbformat_minor": 2
}
