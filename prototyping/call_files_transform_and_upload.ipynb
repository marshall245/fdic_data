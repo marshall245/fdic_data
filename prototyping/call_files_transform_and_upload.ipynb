{
 "cells": [
  {
   "cell_type": "markdown",
   "metadata": {},
   "source": [
    "# Transform and Load"
   ]
  },
  {
   "cell_type": "code",
   "execution_count": 1,
   "metadata": {},
   "outputs": [],
   "source": [
    "import os\n",
    "\n",
    "import pymongo as mongo\n",
    "import pandas as pd\n",
    "import transform_helpers as hlprs"
   ]
  },
  {
   "cell_type": "markdown",
   "metadata": {},
   "source": [
    "## Set Notebook Options"
   ]
  },
  {
   "cell_type": "code",
   "execution_count": 2,
   "metadata": {},
   "outputs": [],
   "source": [
    "pd.options.display.max_columns = 300"
   ]
  },
  {
   "cell_type": "markdown",
   "metadata": {},
   "source": [
    "## Read In Data"
   ]
  },
  {
   "cell_type": "code",
   "execution_count": 3,
   "metadata": {
    "collapsed": true
   },
   "outputs": [],
   "source": [
    "DATADIR = '/Users/admin/notebooks/financial_data_raw/'\n",
    "FDIC_CODES = [3510, 3511, 33238, 7213, 628]"
   ]
  },
  {
   "cell_type": "code",
   "execution_count": 4,
   "metadata": {},
   "outputs": [],
   "source": [
    "data_files = os.listdir(DATADIR)"
   ]
  },
  {
   "cell_type": "code",
   "execution_count": 5,
   "metadata": {},
   "outputs": [
    {
     "name": "stdout",
     "output_type": "stream",
     "text": [
      "/Users/admin/notebooks/financial_data_raw/FFIEC CDR Call Subset of Schedules 2013(1 of 3).txt\n",
      "/Users/admin/notebooks/financial_data_raw/FFIEC CDR Call Subset of Schedules 2013(2 of 3).txt\n"
     ]
    },
    {
     "name": "stderr",
     "output_type": "stream",
     "text": [
      "/Users/admin/miniconda3/envs/working/lib/python3.6/site-packages/IPython/core/interactiveshell.py:2802: DtypeWarning: Columns (28) have mixed types. Specify dtype option on import or set low_memory=False.\n",
      "  if self.run_code(code, result):\n"
     ]
    },
    {
     "name": "stdout",
     "output_type": "stream",
     "text": [
      "/Users/admin/notebooks/financial_data_raw/FFIEC CDR Call Subset of Schedules 2013(3 of 3).txt\n",
      "/Users/admin/notebooks/financial_data_raw/FFIEC CDR Call Subset of Schedules 2014(1 of 3).txt\n",
      "/Users/admin/notebooks/financial_data_raw/FFIEC CDR Call Subset of Schedules 2014(2 of 3).txt\n",
      "/Users/admin/notebooks/financial_data_raw/FFIEC CDR Call Subset of Schedules 2014(3 of 3).txt\n",
      "/Users/admin/notebooks/financial_data_raw/FFIEC CDR Call Subset of Schedules 2015(1 of 3).txt\n",
      "/Users/admin/notebooks/financial_data_raw/FFIEC CDR Call Subset of Schedules 2015(2 of 3).txt\n",
      "/Users/admin/notebooks/financial_data_raw/FFIEC CDR Call Subset of Schedules 2015(3 of 3).txt\n",
      "/Users/admin/notebooks/financial_data_raw/FFIEC CDR Call Subset of Schedules 2016(1 of 3).txt\n",
      "/Users/admin/notebooks/financial_data_raw/FFIEC CDR Call Subset of Schedules 2016(2 of 3).txt\n",
      "/Users/admin/notebooks/financial_data_raw/FFIEC CDR Call Subset of Schedules 2016(3 of 3).txt\n",
      "/Users/admin/notebooks/financial_data_raw/FFIEC CDR Call Subset of Schedules 2017(1 of 2).txt\n",
      "/Users/admin/notebooks/financial_data_raw/FFIEC CDR Call Subset of Schedules 2017(2 of 2).txt\n"
     ]
    }
   ],
   "source": [
    "dicts = list()\n",
    "\n",
    "for item in data_files:\n",
    "    if item not in ('Readme.txt', '.ipynb_checkpoints'):\n",
    "        filepath = os.path.join(DATADIR, item)\n",
    "        print(filepath)\n",
    "        transformed = hlprs.transform_flat_text(filepath, FDIC_CODES)\n",
    "        dicts.extend(transformed)"
   ]
  },
  {
   "cell_type": "markdown",
   "metadata": {},
   "source": [
    "## Access MongoDB"
   ]
  },
  {
   "cell_type": "code",
   "execution_count": 6,
   "metadata": {
    "collapsed": true
   },
   "outputs": [],
   "source": [
    "DB_NAME = 'ffeic_bank'\n",
    "COLLECTION_NAME = 'financial_data'"
   ]
  },
  {
   "cell_type": "code",
   "execution_count": 7,
   "metadata": {
    "collapsed": true
   },
   "outputs": [],
   "source": [
    "client = mongo.MongoClient()"
   ]
  },
  {
   "cell_type": "markdown",
   "metadata": {},
   "source": [
    "#### Delete The Collection if Necessary"
   ]
  },
  {
   "cell_type": "code",
   "execution_count": 8,
   "metadata": {
    "collapsed": true
   },
   "outputs": [],
   "source": [
    "db = client[DB_NAME]\n",
    "db.drop_collection(COLLECTION_NAME)"
   ]
  },
  {
   "cell_type": "markdown",
   "metadata": {},
   "source": [
    "###### Delete the Database if Necessary"
   ]
  },
  {
   "cell_type": "code",
   "execution_count": 9,
   "metadata": {
    "collapsed": true
   },
   "outputs": [],
   "source": [
    "client.drop_database(DB_NAME)"
   ]
  },
  {
   "cell_type": "markdown",
   "metadata": {},
   "source": [
    "#### Load the Data"
   ]
  },
  {
   "cell_type": "code",
   "execution_count": 10,
   "metadata": {},
   "outputs": [
    {
     "data": {
      "text/plain": [
       "<pymongo.results.InsertManyResult at 0x1021a74c8>"
      ]
     },
     "execution_count": 10,
     "metadata": {},
     "output_type": "execute_result"
    }
   ],
   "source": [
    "# create the database\n",
    "db = client.get_database(DB_NAME)\n",
    "\n",
    "# create the collection\n",
    "data = db[COLLECTION_NAME]\n",
    "\n",
    "# fill the collection\n",
    "data.insert_many(dicts)"
   ]
  }
 ],
 "metadata": {
  "kernelspec": {
   "display_name": "Python 3",
   "language": "python",
   "name": "python3"
  },
  "language_info": {
   "codemirror_mode": {
    "name": "ipython",
    "version": 3
   },
   "file_extension": ".py",
   "mimetype": "text/x-python",
   "name": "python",
   "nbconvert_exporter": "python",
   "pygments_lexer": "ipython3",
   "version": "3.6.1"
  }
 },
 "nbformat": 4,
 "nbformat_minor": 2
}
