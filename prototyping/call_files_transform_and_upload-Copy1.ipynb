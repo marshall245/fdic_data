{
 "cells": [
  {
   "cell_type": "markdown",
   "metadata": {},
   "source": [
    "# Transform and Load"
   ]
  },
  {
   "cell_type": "code",
   "execution_count": 1,
   "metadata": {
    "collapsed": true
   },
   "outputs": [],
   "source": [
    "import os\n",
    "\n",
    "import pymongo as mongo\n",
    "import pandas as pd\n",
    "import transform_helpers as hlprs"
   ]
  },
  {
   "cell_type": "markdown",
   "metadata": {},
   "source": [
    "## Set Notebook Options"
   ]
  },
  {
   "cell_type": "code",
   "execution_count": 2,
   "metadata": {
    "collapsed": true
   },
   "outputs": [],
   "source": [
    "pd.options.display.max_columns = 300"
   ]
  },
  {
   "cell_type": "markdown",
   "metadata": {},
   "source": [
    "## Read In Data"
   ]
  },
  {
   "cell_type": "code",
   "execution_count": 3,
   "metadata": {
    "collapsed": true
   },
   "outputs": [],
   "source": [
    "DATADIR = '/Users/admin/notebooks/fdic_data/financial_data_raw/'\n",
    "FDIC_CODES = [3510, 3511, 33238, 7213, 628]"
   ]
  },
  {
   "cell_type": "code",
   "execution_count": 4,
   "metadata": {
    "collapsed": true
   },
   "outputs": [],
   "source": [
    "data_files = os.listdir(DATADIR)"
   ]
  },
  {
   "cell_type": "code",
   "execution_count": 5,
   "metadata": {
    "scrolled": true
   },
   "outputs": [
    {
     "name": "stdout",
     "output_type": "stream",
     "text": [
      "/Users/admin/notebooks/fdic_data/financial_data_raw/FFIEC CDR Call Subset of Schedules 2013(1 of 3).txt\n",
      "/Users/admin/notebooks/fdic_data/financial_data_raw/FFIEC CDR Call Subset of Schedules 2013(2 of 3).txt\n"
     ]
    },
    {
     "name": "stderr",
     "output_type": "stream",
     "text": [
      "/Users/admin/miniconda3/envs/working/lib/python3.6/site-packages/IPython/core/interactiveshell.py:2802: DtypeWarning: Columns (28) have mixed types. Specify dtype option on import or set low_memory=False.\n",
      "  if self.run_code(code, result):\n"
     ]
    },
    {
     "name": "stdout",
     "output_type": "stream",
     "text": [
      "/Users/admin/notebooks/fdic_data/financial_data_raw/FFIEC CDR Call Subset of Schedules 2013(3 of 3).txt\n",
      "/Users/admin/notebooks/fdic_data/financial_data_raw/FFIEC CDR Call Subset of Schedules 2014(1 of 3).txt\n",
      "/Users/admin/notebooks/fdic_data/financial_data_raw/FFIEC CDR Call Subset of Schedules 2014(2 of 3).txt\n",
      "/Users/admin/notebooks/fdic_data/financial_data_raw/FFIEC CDR Call Subset of Schedules 2014(3 of 3).txt\n",
      "/Users/admin/notebooks/fdic_data/financial_data_raw/FFIEC CDR Call Subset of Schedules 2015(1 of 3).txt\n",
      "/Users/admin/notebooks/fdic_data/financial_data_raw/FFIEC CDR Call Subset of Schedules 2015(2 of 3).txt\n",
      "/Users/admin/notebooks/fdic_data/financial_data_raw/FFIEC CDR Call Subset of Schedules 2015(3 of 3).txt\n",
      "/Users/admin/notebooks/fdic_data/financial_data_raw/FFIEC CDR Call Subset of Schedules 2016(1 of 3).txt\n",
      "/Users/admin/notebooks/fdic_data/financial_data_raw/FFIEC CDR Call Subset of Schedules 2016(2 of 3).txt\n",
      "/Users/admin/notebooks/fdic_data/financial_data_raw/FFIEC CDR Call Subset of Schedules 2016(3 of 3).txt\n",
      "/Users/admin/notebooks/fdic_data/financial_data_raw/FFIEC CDR Call Subset of Schedules 2017(1 of 2).txt\n",
      "/Users/admin/notebooks/fdic_data/financial_data_raw/FFIEC CDR Call Subset of Schedules 2017(2 of 2).txt\n",
      "/Users/admin/notebooks/fdic_data/financial_data_raw/mdrm_codes\n"
     ]
    },
    {
     "ename": "KeyError",
     "evalue": "'FDIC Certificate Number'",
     "output_type": "error",
     "traceback": [
      "\u001b[0;31m---------------------------------------------------------------------------\u001b[0m",
      "\u001b[0;31mKeyError\u001b[0m                                  Traceback (most recent call last)",
      "\u001b[0;32m~/miniconda3/envs/working/lib/python3.6/site-packages/pandas/core/indexes/base.py\u001b[0m in \u001b[0;36mget_loc\u001b[0;34m(self, key, method, tolerance)\u001b[0m\n\u001b[1;32m   2441\u001b[0m             \u001b[0;32mtry\u001b[0m\u001b[0;34m:\u001b[0m\u001b[0;34m\u001b[0m\u001b[0m\n\u001b[0;32m-> 2442\u001b[0;31m                 \u001b[0;32mreturn\u001b[0m \u001b[0mself\u001b[0m\u001b[0;34m.\u001b[0m\u001b[0m_engine\u001b[0m\u001b[0;34m.\u001b[0m\u001b[0mget_loc\u001b[0m\u001b[0;34m(\u001b[0m\u001b[0mkey\u001b[0m\u001b[0;34m)\u001b[0m\u001b[0;34m\u001b[0m\u001b[0m\n\u001b[0m\u001b[1;32m   2443\u001b[0m             \u001b[0;32mexcept\u001b[0m \u001b[0mKeyError\u001b[0m\u001b[0;34m:\u001b[0m\u001b[0;34m\u001b[0m\u001b[0m\n",
      "\u001b[0;32mpandas/_libs/index.pyx\u001b[0m in \u001b[0;36mpandas._libs.index.IndexEngine.get_loc (pandas/_libs/index.c:5280)\u001b[0;34m()\u001b[0m\n",
      "\u001b[0;32mpandas/_libs/index.pyx\u001b[0m in \u001b[0;36mpandas._libs.index.IndexEngine.get_loc (pandas/_libs/index.c:5126)\u001b[0;34m()\u001b[0m\n",
      "\u001b[0;32mpandas/_libs/hashtable_class_helper.pxi\u001b[0m in \u001b[0;36mpandas._libs.hashtable.PyObjectHashTable.get_item (pandas/_libs/hashtable.c:20523)\u001b[0;34m()\u001b[0m\n",
      "\u001b[0;32mpandas/_libs/hashtable_class_helper.pxi\u001b[0m in \u001b[0;36mpandas._libs.hashtable.PyObjectHashTable.get_item (pandas/_libs/hashtable.c:20477)\u001b[0;34m()\u001b[0m\n",
      "\u001b[0;31mKeyError\u001b[0m: 'FDIC Certificate Number'",
      "\nDuring handling of the above exception, another exception occurred:\n",
      "\u001b[0;31mKeyError\u001b[0m                                  Traceback (most recent call last)",
      "\u001b[0;32m<ipython-input-5-5bf94edc13f8>\u001b[0m in \u001b[0;36m<module>\u001b[0;34m()\u001b[0m\n\u001b[1;32m      5\u001b[0m         \u001b[0mfilepath\u001b[0m \u001b[0;34m=\u001b[0m \u001b[0mos\u001b[0m\u001b[0;34m.\u001b[0m\u001b[0mpath\u001b[0m\u001b[0;34m.\u001b[0m\u001b[0mjoin\u001b[0m\u001b[0;34m(\u001b[0m\u001b[0mDATADIR\u001b[0m\u001b[0;34m,\u001b[0m \u001b[0mitem\u001b[0m\u001b[0;34m)\u001b[0m\u001b[0;34m\u001b[0m\u001b[0m\n\u001b[1;32m      6\u001b[0m         \u001b[0mprint\u001b[0m\u001b[0;34m(\u001b[0m\u001b[0mfilepath\u001b[0m\u001b[0;34m)\u001b[0m\u001b[0;34m\u001b[0m\u001b[0m\n\u001b[0;32m----> 7\u001b[0;31m         \u001b[0mtransformed\u001b[0m \u001b[0;34m=\u001b[0m \u001b[0mhlprs\u001b[0m\u001b[0;34m.\u001b[0m\u001b[0mtransform_flat_text\u001b[0m\u001b[0;34m(\u001b[0m\u001b[0mfilepath\u001b[0m\u001b[0;34m,\u001b[0m \u001b[0mFDIC_CODES\u001b[0m\u001b[0;34m)\u001b[0m\u001b[0;34m\u001b[0m\u001b[0m\n\u001b[0m\u001b[1;32m      8\u001b[0m         \u001b[0mdicts\u001b[0m\u001b[0;34m.\u001b[0m\u001b[0mextend\u001b[0m\u001b[0;34m(\u001b[0m\u001b[0mtransformed\u001b[0m\u001b[0;34m)\u001b[0m\u001b[0;34m\u001b[0m\u001b[0m\n",
      "\u001b[0;32m~/notebooks/fdic_data/transform_helpers.py\u001b[0m in \u001b[0;36mtransform_flat_text\u001b[0;34m(filepath, fdic_codes)\u001b[0m\n\u001b[1;32m     53\u001b[0m     \u001b[0mtmpdf\u001b[0m\u001b[0;34m.\u001b[0m\u001b[0mcolumns\u001b[0m \u001b[0;34m=\u001b[0m \u001b[0mtmpdf\u001b[0m\u001b[0;34m.\u001b[0m\u001b[0mcolumns\u001b[0m\u001b[0;34m.\u001b[0m\u001b[0mdroplevel\u001b[0m\u001b[0;34m(\u001b[0m\u001b[0;36m1\u001b[0m\u001b[0;34m)\u001b[0m\u001b[0;34m\u001b[0m\u001b[0m\n\u001b[1;32m     54\u001b[0m \u001b[0;34m\u001b[0m\u001b[0m\n\u001b[0;32m---> 55\u001b[0;31m     \u001b[0mfiltered\u001b[0m \u001b[0;34m=\u001b[0m \u001b[0mdf\u001b[0m\u001b[0;34m[\u001b[0m\u001b[0mtmpdf\u001b[0m\u001b[0;34m[\u001b[0m\u001b[0;34m'FDIC Certificate Number'\u001b[0m\u001b[0;34m]\u001b[0m\u001b[0;34m.\u001b[0m\u001b[0misin\u001b[0m\u001b[0;34m(\u001b[0m\u001b[0mfdic_codes\u001b[0m\u001b[0;34m)\u001b[0m\u001b[0;34m]\u001b[0m\u001b[0;34m\u001b[0m\u001b[0m\n\u001b[0m\u001b[1;32m     56\u001b[0m \u001b[0;34m\u001b[0m\u001b[0m\n\u001b[1;32m     57\u001b[0m     \u001b[0mtransform\u001b[0m \u001b[0;34m=\u001b[0m \u001b[0mfiltered\u001b[0m\u001b[0;34m.\u001b[0m\u001b[0mapply\u001b[0m\u001b[0;34m(\u001b[0m\u001b[0mtransformer\u001b[0m\u001b[0;34m,\u001b[0m \u001b[0maxis\u001b[0m\u001b[0;34m=\u001b[0m\u001b[0;36m1\u001b[0m\u001b[0;34m)\u001b[0m\u001b[0;34m\u001b[0m\u001b[0m\n",
      "\u001b[0;32m~/miniconda3/envs/working/lib/python3.6/site-packages/pandas/core/frame.py\u001b[0m in \u001b[0;36m__getitem__\u001b[0;34m(self, key)\u001b[0m\n\u001b[1;32m   1962\u001b[0m             \u001b[0;32mreturn\u001b[0m \u001b[0mself\u001b[0m\u001b[0;34m.\u001b[0m\u001b[0m_getitem_multilevel\u001b[0m\u001b[0;34m(\u001b[0m\u001b[0mkey\u001b[0m\u001b[0;34m)\u001b[0m\u001b[0;34m\u001b[0m\u001b[0m\n\u001b[1;32m   1963\u001b[0m         \u001b[0;32melse\u001b[0m\u001b[0;34m:\u001b[0m\u001b[0;34m\u001b[0m\u001b[0m\n\u001b[0;32m-> 1964\u001b[0;31m             \u001b[0;32mreturn\u001b[0m \u001b[0mself\u001b[0m\u001b[0;34m.\u001b[0m\u001b[0m_getitem_column\u001b[0m\u001b[0;34m(\u001b[0m\u001b[0mkey\u001b[0m\u001b[0;34m)\u001b[0m\u001b[0;34m\u001b[0m\u001b[0m\n\u001b[0m\u001b[1;32m   1965\u001b[0m \u001b[0;34m\u001b[0m\u001b[0m\n\u001b[1;32m   1966\u001b[0m     \u001b[0;32mdef\u001b[0m \u001b[0m_getitem_column\u001b[0m\u001b[0;34m(\u001b[0m\u001b[0mself\u001b[0m\u001b[0;34m,\u001b[0m \u001b[0mkey\u001b[0m\u001b[0;34m)\u001b[0m\u001b[0;34m:\u001b[0m\u001b[0;34m\u001b[0m\u001b[0m\n",
      "\u001b[0;32m~/miniconda3/envs/working/lib/python3.6/site-packages/pandas/core/frame.py\u001b[0m in \u001b[0;36m_getitem_column\u001b[0;34m(self, key)\u001b[0m\n\u001b[1;32m   1969\u001b[0m         \u001b[0;31m# get column\u001b[0m\u001b[0;34m\u001b[0m\u001b[0;34m\u001b[0m\u001b[0m\n\u001b[1;32m   1970\u001b[0m         \u001b[0;32mif\u001b[0m \u001b[0mself\u001b[0m\u001b[0;34m.\u001b[0m\u001b[0mcolumns\u001b[0m\u001b[0;34m.\u001b[0m\u001b[0mis_unique\u001b[0m\u001b[0;34m:\u001b[0m\u001b[0;34m\u001b[0m\u001b[0m\n\u001b[0;32m-> 1971\u001b[0;31m             \u001b[0;32mreturn\u001b[0m \u001b[0mself\u001b[0m\u001b[0;34m.\u001b[0m\u001b[0m_get_item_cache\u001b[0m\u001b[0;34m(\u001b[0m\u001b[0mkey\u001b[0m\u001b[0;34m)\u001b[0m\u001b[0;34m\u001b[0m\u001b[0m\n\u001b[0m\u001b[1;32m   1972\u001b[0m \u001b[0;34m\u001b[0m\u001b[0m\n\u001b[1;32m   1973\u001b[0m         \u001b[0;31m# duplicate columns & possible reduce dimensionality\u001b[0m\u001b[0;34m\u001b[0m\u001b[0;34m\u001b[0m\u001b[0m\n",
      "\u001b[0;32m~/miniconda3/envs/working/lib/python3.6/site-packages/pandas/core/generic.py\u001b[0m in \u001b[0;36m_get_item_cache\u001b[0;34m(self, item)\u001b[0m\n\u001b[1;32m   1643\u001b[0m         \u001b[0mres\u001b[0m \u001b[0;34m=\u001b[0m \u001b[0mcache\u001b[0m\u001b[0;34m.\u001b[0m\u001b[0mget\u001b[0m\u001b[0;34m(\u001b[0m\u001b[0mitem\u001b[0m\u001b[0;34m)\u001b[0m\u001b[0;34m\u001b[0m\u001b[0m\n\u001b[1;32m   1644\u001b[0m         \u001b[0;32mif\u001b[0m \u001b[0mres\u001b[0m \u001b[0;32mis\u001b[0m \u001b[0;32mNone\u001b[0m\u001b[0;34m:\u001b[0m\u001b[0;34m\u001b[0m\u001b[0m\n\u001b[0;32m-> 1645\u001b[0;31m             \u001b[0mvalues\u001b[0m \u001b[0;34m=\u001b[0m \u001b[0mself\u001b[0m\u001b[0;34m.\u001b[0m\u001b[0m_data\u001b[0m\u001b[0;34m.\u001b[0m\u001b[0mget\u001b[0m\u001b[0;34m(\u001b[0m\u001b[0mitem\u001b[0m\u001b[0;34m)\u001b[0m\u001b[0;34m\u001b[0m\u001b[0m\n\u001b[0m\u001b[1;32m   1646\u001b[0m             \u001b[0mres\u001b[0m \u001b[0;34m=\u001b[0m \u001b[0mself\u001b[0m\u001b[0;34m.\u001b[0m\u001b[0m_box_item_values\u001b[0m\u001b[0;34m(\u001b[0m\u001b[0mitem\u001b[0m\u001b[0;34m,\u001b[0m \u001b[0mvalues\u001b[0m\u001b[0;34m)\u001b[0m\u001b[0;34m\u001b[0m\u001b[0m\n\u001b[1;32m   1647\u001b[0m             \u001b[0mcache\u001b[0m\u001b[0;34m[\u001b[0m\u001b[0mitem\u001b[0m\u001b[0;34m]\u001b[0m \u001b[0;34m=\u001b[0m \u001b[0mres\u001b[0m\u001b[0;34m\u001b[0m\u001b[0m\n",
      "\u001b[0;32m~/miniconda3/envs/working/lib/python3.6/site-packages/pandas/core/internals.py\u001b[0m in \u001b[0;36mget\u001b[0;34m(self, item, fastpath)\u001b[0m\n\u001b[1;32m   3588\u001b[0m \u001b[0;34m\u001b[0m\u001b[0m\n\u001b[1;32m   3589\u001b[0m             \u001b[0;32mif\u001b[0m \u001b[0;32mnot\u001b[0m \u001b[0misnull\u001b[0m\u001b[0;34m(\u001b[0m\u001b[0mitem\u001b[0m\u001b[0;34m)\u001b[0m\u001b[0;34m:\u001b[0m\u001b[0;34m\u001b[0m\u001b[0m\n\u001b[0;32m-> 3590\u001b[0;31m                 \u001b[0mloc\u001b[0m \u001b[0;34m=\u001b[0m \u001b[0mself\u001b[0m\u001b[0;34m.\u001b[0m\u001b[0mitems\u001b[0m\u001b[0;34m.\u001b[0m\u001b[0mget_loc\u001b[0m\u001b[0;34m(\u001b[0m\u001b[0mitem\u001b[0m\u001b[0;34m)\u001b[0m\u001b[0;34m\u001b[0m\u001b[0m\n\u001b[0m\u001b[1;32m   3591\u001b[0m             \u001b[0;32melse\u001b[0m\u001b[0;34m:\u001b[0m\u001b[0;34m\u001b[0m\u001b[0m\n\u001b[1;32m   3592\u001b[0m                 \u001b[0mindexer\u001b[0m \u001b[0;34m=\u001b[0m \u001b[0mnp\u001b[0m\u001b[0;34m.\u001b[0m\u001b[0marange\u001b[0m\u001b[0;34m(\u001b[0m\u001b[0mlen\u001b[0m\u001b[0;34m(\u001b[0m\u001b[0mself\u001b[0m\u001b[0;34m.\u001b[0m\u001b[0mitems\u001b[0m\u001b[0;34m)\u001b[0m\u001b[0;34m)\u001b[0m\u001b[0;34m[\u001b[0m\u001b[0misnull\u001b[0m\u001b[0;34m(\u001b[0m\u001b[0mself\u001b[0m\u001b[0;34m.\u001b[0m\u001b[0mitems\u001b[0m\u001b[0;34m)\u001b[0m\u001b[0;34m]\u001b[0m\u001b[0;34m\u001b[0m\u001b[0m\n",
      "\u001b[0;32m~/miniconda3/envs/working/lib/python3.6/site-packages/pandas/core/indexes/base.py\u001b[0m in \u001b[0;36mget_loc\u001b[0;34m(self, key, method, tolerance)\u001b[0m\n\u001b[1;32m   2442\u001b[0m                 \u001b[0;32mreturn\u001b[0m \u001b[0mself\u001b[0m\u001b[0;34m.\u001b[0m\u001b[0m_engine\u001b[0m\u001b[0;34m.\u001b[0m\u001b[0mget_loc\u001b[0m\u001b[0;34m(\u001b[0m\u001b[0mkey\u001b[0m\u001b[0;34m)\u001b[0m\u001b[0;34m\u001b[0m\u001b[0m\n\u001b[1;32m   2443\u001b[0m             \u001b[0;32mexcept\u001b[0m \u001b[0mKeyError\u001b[0m\u001b[0;34m:\u001b[0m\u001b[0;34m\u001b[0m\u001b[0m\n\u001b[0;32m-> 2444\u001b[0;31m                 \u001b[0;32mreturn\u001b[0m \u001b[0mself\u001b[0m\u001b[0;34m.\u001b[0m\u001b[0m_engine\u001b[0m\u001b[0;34m.\u001b[0m\u001b[0mget_loc\u001b[0m\u001b[0;34m(\u001b[0m\u001b[0mself\u001b[0m\u001b[0;34m.\u001b[0m\u001b[0m_maybe_cast_indexer\u001b[0m\u001b[0;34m(\u001b[0m\u001b[0mkey\u001b[0m\u001b[0;34m)\u001b[0m\u001b[0;34m)\u001b[0m\u001b[0;34m\u001b[0m\u001b[0m\n\u001b[0m\u001b[1;32m   2445\u001b[0m \u001b[0;34m\u001b[0m\u001b[0m\n\u001b[1;32m   2446\u001b[0m         \u001b[0mindexer\u001b[0m \u001b[0;34m=\u001b[0m \u001b[0mself\u001b[0m\u001b[0;34m.\u001b[0m\u001b[0mget_indexer\u001b[0m\u001b[0;34m(\u001b[0m\u001b[0;34m[\u001b[0m\u001b[0mkey\u001b[0m\u001b[0;34m]\u001b[0m\u001b[0;34m,\u001b[0m \u001b[0mmethod\u001b[0m\u001b[0;34m=\u001b[0m\u001b[0mmethod\u001b[0m\u001b[0;34m,\u001b[0m \u001b[0mtolerance\u001b[0m\u001b[0;34m=\u001b[0m\u001b[0mtolerance\u001b[0m\u001b[0;34m)\u001b[0m\u001b[0;34m\u001b[0m\u001b[0m\n",
      "\u001b[0;32mpandas/_libs/index.pyx\u001b[0m in \u001b[0;36mpandas._libs.index.IndexEngine.get_loc (pandas/_libs/index.c:5280)\u001b[0;34m()\u001b[0m\n",
      "\u001b[0;32mpandas/_libs/index.pyx\u001b[0m in \u001b[0;36mpandas._libs.index.IndexEngine.get_loc (pandas/_libs/index.c:5126)\u001b[0;34m()\u001b[0m\n",
      "\u001b[0;32mpandas/_libs/hashtable_class_helper.pxi\u001b[0m in \u001b[0;36mpandas._libs.hashtable.PyObjectHashTable.get_item (pandas/_libs/hashtable.c:20523)\u001b[0;34m()\u001b[0m\n",
      "\u001b[0;32mpandas/_libs/hashtable_class_helper.pxi\u001b[0m in \u001b[0;36mpandas._libs.hashtable.PyObjectHashTable.get_item (pandas/_libs/hashtable.c:20477)\u001b[0;34m()\u001b[0m\n",
      "\u001b[0;31mKeyError\u001b[0m: 'FDIC Certificate Number'"
     ]
    }
   ],
   "source": [
    "dicts = list()\n",
    "\n",
    "for item in data_files:\n",
    "    if item not in ('Readme.txt', '.ipynb_checkpoints'):\n",
    "        filepath = os.path.join(DATADIR, item)\n",
    "        print(filepath)\n",
    "        transformed = hlprs.transform_flat_text(filepath, FDIC_CODES)\n",
    "        dicts.extend(transformed)"
   ]
  },
  {
   "cell_type": "markdown",
   "metadata": {},
   "source": [
    "## Access MongoDB"
   ]
  },
  {
   "cell_type": "code",
   "execution_count": 6,
   "metadata": {
    "collapsed": true
   },
   "outputs": [],
   "source": [
    "DB_NAME = 'ffeic_bank'\n",
    "COLLECTION_NAME = 'financial_data'"
   ]
  },
  {
   "cell_type": "code",
   "execution_count": 7,
   "metadata": {
    "collapsed": true
   },
   "outputs": [],
   "source": [
    "client = mongo.MongoClient(host='localhost', port=3000)"
   ]
  },
  {
   "cell_type": "markdown",
   "metadata": {},
   "source": [
    "#### Delete The Collection if Necessary"
   ]
  },
  {
   "cell_type": "code",
   "execution_count": null,
   "metadata": {},
   "outputs": [],
   "source": [
    "db = client[DB_NAME]\n",
    "db.drop_collection(COLLECTION_NAME)"
   ]
  },
  {
   "cell_type": "markdown",
   "metadata": {},
   "source": [
    "###### Delete the Database if Necessary"
   ]
  },
  {
   "cell_type": "code",
   "execution_count": null,
   "metadata": {
    "collapsed": true
   },
   "outputs": [],
   "source": [
    "client.drop_database(DB_NAME)"
   ]
  },
  {
   "cell_type": "markdown",
   "metadata": {},
   "source": [
    "#### Load the Data"
   ]
  },
  {
   "cell_type": "code",
   "execution_count": null,
   "metadata": {},
   "outputs": [],
   "source": [
    "# create the database\n",
    "db = client.get_database(DB_NAME)\n",
    "\n",
    "# create the collection\n",
    "data = db[COLLECTION_NAME]\n",
    "\n",
    "# fill the collection\n",
    "data.insert_many(dicts)"
   ]
  },
  {
   "cell_type": "markdown",
   "metadata": {},
   "source": [
    "#### Review Data"
   ]
  },
  {
   "cell_type": "code",
   "execution_count": 8,
   "metadata": {
    "collapsed": true
   },
   "outputs": [],
   "source": [
    "db = client.get_database(DB_NAME)"
   ]
  },
  {
   "cell_type": "code",
   "execution_count": 9,
   "metadata": {
    "collapsed": true
   },
   "outputs": [],
   "source": [
    "data = db[COLLECTION_NAME]"
   ]
  },
  {
   "cell_type": "code",
   "execution_count": 10,
   "metadata": {},
   "outputs": [
    {
     "data": {
      "text/plain": [
       "{'_id': ObjectId('59446595dbc55435c81b284e'),\n",
       " 'fdic_certificate_number': 3511,\n",
       " 'financials': {'RCFD0071': 187583000.0,\n",
       "  'RCFD0081': 19641000.0,\n",
       "  'RCFD0426': 22464000.0,\n",
       "  'RCFD1248': 0.0,\n",
       "  'RCFD1249': 78000.0,\n",
       "  'RCFD1250': 2000.0,\n",
       "  'RCFD1251': 220000.0,\n",
       "  'RCFD1252': 7000.0,\n",
       "  'RCFD1253': 560000.0,\n",
       "  'RCFD1254': 1000.0,\n",
       "  'RCFD1255': 0.0,\n",
       "  'RCFD1256': 20000.0,\n",
       "  'RCFD1583': 102000.0,\n",
       "  'RCFD1594': 16000.0,\n",
       "  'RCFD1597': 0.0,\n",
       "  'RCFD1754': 12346000.0,\n",
       "  'RCFD1773': 215837000.0,\n",
       "  'RCFD2130': 662000.0,\n",
       "  'RCFD2145': 7582000.0,\n",
       "  'RCFD2150': 3838000.0,\n",
       "  'RCFD2160': 54238000.0,\n",
       "  'RCFD2170': 1373600000.0,\n",
       "  'RCFD2930': 27989000.0,\n",
       "  'RCFD2948': 1235756000.0,\n",
       "  'RCFD3000': 207000.0,\n",
       "  'RCFD3123': 12421000.0,\n",
       "  'RCFD3163': 21549000.0,\n",
       "  'RCFD3190': 55913000.0,\n",
       "  'RCFD3200': 19642000.0,\n",
       "  'RCFD3210': 137637000.0,\n",
       "  'RCFD3230': 519000.0,\n",
       "  'RCFD3300': 1373600000.0,\n",
       "  'RCFD3505': 170000.0,\n",
       "  'RCFD3506': 0.0,\n",
       "  'RCFD3507': 128000.0,\n",
       "  'RCFD3529': 0.0,\n",
       "  'RCFD3530': 0.0,\n",
       "  'RCFD3545': 32465000.0,\n",
       "  'RCFD3548': 13662000.0,\n",
       "  'RCFD3632': 32028000.0,\n",
       "  'RCFD3656': 7000.0,\n",
       "  'RCFD3838': 0.0,\n",
       "  'RCFD3839': 103010000.0,\n",
       "  'RCFD5369': 10277000.0,\n",
       "  'RCFD5377': 0.0,\n",
       "  'RCFD5378': 0.0,\n",
       "  'RCFD5379': 0.0,\n",
       "  'RCFD5380': 0.0,\n",
       "  'RCFD5381': 0.0,\n",
       "  'RCFD5382': 0.0,\n",
       "  'RCFD5389': 0.0,\n",
       "  'RCFD5390': 0.0,\n",
       "  'RCFD5391': 0.0,\n",
       "  'RCFD5459': 92000.0,\n",
       "  'RCFD5460': 3000.0,\n",
       "  'RCFD5461': 41000.0,\n",
       "  'RCFD6558': 39000.0,\n",
       "  'RCFD6559': 1000.0,\n",
       "  'RCFD6560': 35000.0,\n",
       "  'RCFD6724': nan,\n",
       "  'RCFDA130': 0.0,\n",
       "  'RCFDB528': 778519000.0,\n",
       "  'RCFDB529': 766098000.0,\n",
       "  'RCFDB530': 2080000.0,\n",
       "  'RCFDB575': 271000.0,\n",
       "  'RCFDB576': 255000.0,\n",
       "  'RCFDB577': 0.0,\n",
       "  'RCFDB989': 18962000.0,\n",
       "  'RCFDB995': 13930000.0,\n",
       "  'RCFDC226': 205000.0,\n",
       "  'RCFDC240': 266000.0,\n",
       "  'RCFDC241': 526000.0,\n",
       "  'RCFDC410': 1790000.0,\n",
       "  'RCFDC411': 266000.0,\n",
       "  'RCFDF166': 0.0,\n",
       "  'RCFDF167': 0.0,\n",
       "  'RCFDF168': 0.0,\n",
       "  'RCFDF169': 33000.0,\n",
       "  'RCFDF170': 0.0,\n",
       "  'RCFDF171': 29000.0,\n",
       "  'RCFDF664': 0.0,\n",
       "  'RCFDF665': 0.0,\n",
       "  'RCFDF666': 190000.0,\n",
       "  'RCFDF667': 0.0,\n",
       "  'RCFDF668': 0.0,\n",
       "  'RCFDF669': 198000.0,\n",
       "  'RCFDG105': 137844000.0,\n",
       "  'RCFDK036': 1766000.0,\n",
       "  'RCFDK037': 21892000.0,\n",
       "  'RCFDK038': 366000.0,\n",
       "  'RCFDK039': 743000.0,\n",
       "  'RCFDK040': 1505000.0,\n",
       "  'RCFDK041': 340000.0,\n",
       "  'RCFDK042': 999000.0,\n",
       "  'RCFDK043': 20175000.0,\n",
       "  'RCFDK044': 0.0,\n",
       "  'RCFDK072': 0.0,\n",
       "  'RCFDK073': 0.0,\n",
       "  'RCFDK074': 0.0,\n",
       "  'RCFDK075': 0.0,\n",
       "  'RCFDK076': 0.0,\n",
       "  'RCFDK077': 0.0,\n",
       "  'RCFDK078': 0.0,\n",
       "  'RCFDK079': 0.0,\n",
       "  'RCFDK080': 0.0,\n",
       "  'RCFDK081': 0.0,\n",
       "  'RCFDK082': 0.0,\n",
       "  'RCFDK083': 0.0,\n",
       "  'RCFDK084': 0.0,\n",
       "  'RCFDK085': 0.0,\n",
       "  'RCFDK086': 0.0,\n",
       "  'RCFDK087': 0.0,\n",
       "  'RCFDK088': 0.0,\n",
       "  'RCFDK089': 0.0,\n",
       "  'RCFDK091': 0.0,\n",
       "  'RCFDK092': 0.0,\n",
       "  'RCFDK093': 0.0,\n",
       "  'RCFDK095': 0.0,\n",
       "  'RCFDK096': 0.0,\n",
       "  'RCFDK097': 0.0,\n",
       "  'RCFDK099': 0.0,\n",
       "  'RCFDK100': 0.0,\n",
       "  'RCFDK101': 0.0,\n",
       "  'RCFDK102': 0.0,\n",
       "  'RCFDK103': 0.0,\n",
       "  'RCFDK104': 0.0,\n",
       "  'RCFDK120': 11000.0,\n",
       "  'RCFDK121': 0.0,\n",
       "  'RCFDK122': 353000.0,\n",
       "  'RCFDK123': 0.0,\n",
       "  'RCFDK124': 0.0,\n",
       "  'RCFDK125': 1000.0,\n",
       "  'RCFDK126': 43000.0,\n",
       "  'RCFDK127': 30000.0,\n",
       "  'RCFDK128': 259000.0,\n",
       "  'RCFDK134': 0.0,\n",
       "  'RCFDK135': 0.0,\n",
       "  'RCFDK136': 0.0,\n",
       "  'RCFDK138': 0.0,\n",
       "  'RCFDK139': 0.0,\n",
       "  'RCFDK140': 0.0,\n",
       "  'RCFDK213': 897000.0,\n",
       "  'RCFDK214': 49000.0,\n",
       "  'RCFDK215': 157000.0,\n",
       "  'RCFDK216': 830000.0,\n",
       "  'RCFDK217': 967000.0,\n",
       "  'RCFDK218': 32000.0,\n",
       "  'RCFDK269': 0.0,\n",
       "  'RCFDK271': 0.0,\n",
       "  'RCFDK272': 0.0,\n",
       "  'RCFDK274': 0.0,\n",
       "  'RCFDK275': 0.0,\n",
       "  'RCFDK276': 0.0,\n",
       "  'RCFDK277': 0.0,\n",
       "  'RCFDK278': 0.0,\n",
       "  'RCFDK279': 0.0,\n",
       "  'RCFDK280': 0.0,\n",
       "  'RCFDK281': 0.0,\n",
       "  'RCFDK282': 0.0,\n",
       "  'RCFDK283': 0.0,\n",
       "  'RCFDK284': 0.0,\n",
       "  'RCFDK285': 0.0,\n",
       "  'RCFDK286': 0.0,\n",
       "  'RCFDK287': 0.0,\n",
       "  'RCFDK288': 0.0,\n",
       "  'RCFDL183': 3493000.0,\n",
       "  'RCFDL184': 10328000.0,\n",
       "  'RCFDL185': 0.0,\n",
       "  'RCFDL186': 2678000.0,\n",
       "  'RCFDL187': 4307000.0,\n",
       "  'RCFDL188': 0.0,\n",
       "  'RCFN2200': 94619000.0,\n",
       "  'RCFN6631': 633000.0,\n",
       "  'RCFN6636': 93986000.0,\n",
       "  'RCFNB572': 0.0,\n",
       "  'RCFNB573': 78000.0,\n",
       "  'RCFNB574': 0.0,\n",
       "  'RCFNK291': 0.0,\n",
       "  'RCFNK292': 0.0,\n",
       "  'RCFNK293': 0.0,\n",
       "  'RCFNK294': 0.0,\n",
       "  'RCFNK295': 0.0,\n",
       "  'RCFNK296': 0.0,\n",
       "  'RCON0071': nan,\n",
       "  'RCON0081': nan,\n",
       "  'RCON0426': nan,\n",
       "  'RCON1226': nan,\n",
       "  'RCON1227': nan,\n",
       "  'RCON1228': nan,\n",
       "  'RCON1248': nan,\n",
       "  'RCON1249': nan,\n",
       "  'RCON1250': nan,\n",
       "  'RCON1254': nan,\n",
       "  'RCON1255': nan,\n",
       "  'RCON1256': nan,\n",
       "  'RCON1583': nan,\n",
       "  'RCON1594': nan,\n",
       "  'RCON1597': nan,\n",
       "  'RCON1606': nan,\n",
       "  'RCON1607': nan,\n",
       "  'RCON1608': nan,\n",
       "  'RCON1754': 11988000,\n",
       "  'RCON1773': 211344000,\n",
       "  'RCON2130': nan,\n",
       "  'RCON2145': nan,\n",
       "  'RCON2150': nan,\n",
       "  'RCON2160': nan,\n",
       "  'RCON2170': 1334292000,\n",
       "  'RCON2200': 1000959000,\n",
       "  'RCON2930': nan,\n",
       "  'RCON2948': 1196448000,\n",
       "  'RCON3000': nan,\n",
       "  'RCON3123': nan,\n",
       "  'RCON3163': nan,\n",
       "  'RCON3190': 55425000,\n",
       "  'RCON3200': nan,\n",
       "  'RCON3210': nan,\n",
       "  'RCON3230': nan,\n",
       "  'RCON3300': nan,\n",
       "  'RCON3493': 12000,\n",
       "  'RCON3494': 0,\n",
       "  'RCON3495': 55000,\n",
       "  'RCON3499': 73000,\n",
       "  'RCON3500': 13000,\n",
       "  'RCON3501': 140000,\n",
       "  'RCON3505': nan,\n",
       "  'RCON3506': nan,\n",
       "  'RCON3507': nan,\n",
       "  'RCON3529': nan,\n",
       "  'RCON3530': nan,\n",
       "  'RCON3545': 31310000.0,\n",
       "  'RCON3548': 13165000.0,\n",
       "  'RCON3632': nan,\n",
       "  'RCON3656': nan,\n",
       "  'RCON3838': nan,\n",
       "  'RCON3839': nan,\n",
       "  'RCON5369': nan,\n",
       "  'RCON5380': nan,\n",
       "  'RCON5381': nan,\n",
       "  'RCON5382': nan},\n",
       " 'institution_constants': {'financial_institution_address': '101 NORTH PHILLIPS AVENUE ',\n",
       "  'financial_institution_city': 'SIOUX FALLS',\n",
       "  'financial_institution_filing_type': 31,\n",
       "  'financial_institution_name': 'WELLS FARGO BANK, NATIONAL ASSOCIATION',\n",
       "  'financial_institution_state': 'SD',\n",
       "  'financial_institution_zip_code': 57104,\n",
       "  'idrssd': 451965,\n",
       "  'last_datetime_submission_updated_on': '2016-11-30T15:46:50',\n",
       "  'occ_charter_number': 1,\n",
       "  'ots_docket_number': 0,\n",
       "  'primary_aba_routing_number': 121000248},\n",
       " 'reporting_period_end_date': '2013-12-31'}"
      ]
     },
     "execution_count": 10,
     "metadata": {},
     "output_type": "execute_result"
    }
   ],
   "source": [
    "data.find_one()"
   ]
  },
  {
   "cell_type": "code",
   "execution_count": null,
   "metadata": {
    "collapsed": true
   },
   "outputs": [],
   "source": []
  }
 ],
 "metadata": {
  "kernelspec": {
   "display_name": "Python 3",
   "language": "python",
   "name": "python3"
  },
  "language_info": {
   "codemirror_mode": {
    "name": "ipython",
    "version": 3
   },
   "file_extension": ".py",
   "mimetype": "text/x-python",
   "name": "python",
   "nbconvert_exporter": "python",
   "pygments_lexer": "ipython3",
   "version": "3.6.1"
  }
 },
 "nbformat": 4,
 "nbformat_minor": 2
}
