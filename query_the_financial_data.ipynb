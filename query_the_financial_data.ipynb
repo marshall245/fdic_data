{
 "cells": [
  {
   "cell_type": "markdown",
   "metadata": {},
   "source": [
    "# Query Financial Data"
   ]
  },
  {
   "cell_type": "code",
   "execution_count": 28,
   "metadata": {
    "collapsed": true
   },
   "outputs": [],
   "source": [
    "import pymongo as mongo\n",
    "\n",
    "from functools import reduce"
   ]
  },
  {
   "cell_type": "markdown",
   "metadata": {},
   "source": [
    "## Connection Info"
   ]
  },
  {
   "cell_type": "code",
   "execution_count": 2,
   "metadata": {
    "collapsed": true
   },
   "outputs": [],
   "source": [
    "DATABASE = 'ffeic_bank'\n",
    "COLLECTION = 'financial_data'\n",
    "FDIC_KEY = 'fdic_certificate_number'\n",
    "DATE_KEY = 'reporting_period_end_date'"
   ]
  },
  {
   "cell_type": "markdown",
   "metadata": {},
   "source": [
    "## Query Using Python"
   ]
  },
  {
   "cell_type": "code",
   "execution_count": 4,
   "metadata": {
    "collapsed": true
   },
   "outputs": [],
   "source": [
    "client = mongo.MongoClient()\n",
    "collection = client.get_database(DATABASE)[COLLECTION]"
   ]
  },
  {
   "cell_type": "markdown",
   "metadata": {},
   "source": [
    "###### Show Top Keys"
   ]
  },
  {
   "cell_type": "code",
   "execution_count": 14,
   "metadata": {},
   "outputs": [
    {
     "name": "stdout",
     "output_type": "stream",
     "text": [
      "dict_keys(['_id', 'financials', 'institution_constants', 'reporting_period_end_date', 'fdic_certificate_number'])\n"
     ]
    }
   ],
   "source": [
    "for item in collection.find().limit(1):\n",
    "    print(item.keys())"
   ]
  },
  {
   "cell_type": "markdown",
   "metadata": {},
   "source": [
    "###### Show fdic_certificate_numbers"
   ]
  },
  {
   "cell_type": "code",
   "execution_count": 15,
   "metadata": {},
   "outputs": [
    {
     "name": "stdout",
     "output_type": "stream",
     "text": [
      "dict_keys(['_id', 'financials', 'institution_constants', 'reporting_period_end_date', 'fdic_certificate_number'])\n"
     ]
    }
   ],
   "source": [
    "for item in collection.find().limit(1):\n",
    "    print(item.keys())"
   ]
  },
  {
   "cell_type": "code",
   "execution_count": 16,
   "metadata": {},
   "outputs": [
    {
     "name": "stdout",
     "output_type": "stream",
     "text": [
      "2013-12-31\n",
      "2013-09-30\n",
      "2013-06-30\n",
      "2013-03-31\n",
      "2014-12-31\n",
      "2014-09-30\n",
      "2014-06-30\n",
      "2014-03-31\n",
      "2015-12-31\n",
      "2015-09-30\n",
      "2015-06-30\n",
      "2015-03-31\n",
      "2016-12-31\n",
      "2016-09-30\n",
      "2016-06-30\n",
      "2016-03-31\n",
      "2017-03-31\n"
     ]
    }
   ],
   "source": [
    "for item in collection.find().distinct(DATE_KEY):\n",
    "    print(item)"
   ]
  },
  {
   "cell_type": "code",
   "execution_count": 17,
   "metadata": {},
   "outputs": [
    {
     "name": "stdout",
     "output_type": "stream",
     "text": [
      "3511\n",
      "7213\n",
      "3510\n",
      "628\n"
     ]
    }
   ],
   "source": [
    "for item in collection.find().distinct(FDIC_KEY):\n",
    "    print(item)"
   ]
  },
  {
   "cell_type": "markdown",
   "metadata": {},
   "source": [
    "#### Bank Date is not Distinct Here"
   ]
  },
  {
   "cell_type": "code",
   "execution_count": 18,
   "metadata": {},
   "outputs": [
    {
     "name": "stdout",
     "output_type": "stream",
     "text": [
      "WELLS FARGO BANK, NATIONAL ASSOCIATION 2013-03-31\n",
      "WELLS FARGO BANK, NATIONAL ASSOCIATION 2013-03-31\n",
      "WELLS FARGO BANK, NATIONAL ASSOCIATION 2013-03-31\n",
      "WELLS FARGO BANK, NATIONAL ASSOCIATION 2013-06-30\n",
      "WELLS FARGO BANK, NATIONAL ASSOCIATION 2013-06-30\n",
      "WELLS FARGO BANK, NATIONAL ASSOCIATION 2013-06-30\n",
      "WELLS FARGO BANK, NATIONAL ASSOCIATION 2013-09-30\n",
      "WELLS FARGO BANK, NATIONAL ASSOCIATION 2013-09-30\n",
      "WELLS FARGO BANK, NATIONAL ASSOCIATION 2013-09-30\n",
      "WELLS FARGO BANK, NATIONAL ASSOCIATION 2013-12-31\n",
      "WELLS FARGO BANK, NATIONAL ASSOCIATION 2013-12-31\n",
      "WELLS FARGO BANK, NATIONAL ASSOCIATION 2013-12-31\n",
      "WELLS FARGO BANK, NATIONAL ASSOCIATION 2014-03-31\n",
      "WELLS FARGO BANK, NATIONAL ASSOCIATION 2014-03-31\n",
      "WELLS FARGO BANK, NATIONAL ASSOCIATION 2014-03-31\n",
      "WELLS FARGO BANK, NATIONAL ASSOCIATION 2014-06-30\n",
      "WELLS FARGO BANK, NATIONAL ASSOCIATION 2014-06-30\n",
      "WELLS FARGO BANK, NATIONAL ASSOCIATION 2014-06-30\n",
      "WELLS FARGO BANK, NATIONAL ASSOCIATION 2014-09-30\n",
      "WELLS FARGO BANK, NATIONAL ASSOCIATION 2014-09-30\n",
      "WELLS FARGO BANK, NATIONAL ASSOCIATION 2014-09-30\n",
      "WELLS FARGO BANK, NATIONAL ASSOCIATION 2014-12-31\n",
      "WELLS FARGO BANK, NATIONAL ASSOCIATION 2014-12-31\n",
      "WELLS FARGO BANK, NATIONAL ASSOCIATION 2014-12-31\n",
      "WELLS FARGO BANK, NATIONAL ASSOCIATION 2015-03-31\n",
      "WELLS FARGO BANK, NATIONAL ASSOCIATION 2015-03-31\n",
      "WELLS FARGO BANK, NATIONAL ASSOCIATION 2015-03-31\n",
      "WELLS FARGO BANK, NATIONAL ASSOCIATION 2015-06-30\n",
      "WELLS FARGO BANK, NATIONAL ASSOCIATION 2015-06-30\n",
      "WELLS FARGO BANK, NATIONAL ASSOCIATION 2015-06-30\n",
      "WELLS FARGO BANK, NATIONAL ASSOCIATION 2015-09-30\n",
      "WELLS FARGO BANK, NATIONAL ASSOCIATION 2015-09-30\n",
      "WELLS FARGO BANK, NATIONAL ASSOCIATION 2015-09-30\n",
      "WELLS FARGO BANK, NATIONAL ASSOCIATION 2015-12-31\n",
      "WELLS FARGO BANK, NATIONAL ASSOCIATION 2015-12-31\n",
      "WELLS FARGO BANK, NATIONAL ASSOCIATION 2015-12-31\n",
      "WELLS FARGO BANK, NATIONAL ASSOCIATION 2016-03-31\n",
      "WELLS FARGO BANK, NATIONAL ASSOCIATION 2016-03-31\n",
      "WELLS FARGO BANK, NATIONAL ASSOCIATION 2016-03-31\n",
      "WELLS FARGO BANK, NATIONAL ASSOCIATION 2016-06-30\n",
      "WELLS FARGO BANK, NATIONAL ASSOCIATION 2016-06-30\n",
      "WELLS FARGO BANK, NATIONAL ASSOCIATION 2016-06-30\n",
      "WELLS FARGO BANK, NATIONAL ASSOCIATION 2016-09-30\n",
      "WELLS FARGO BANK, NATIONAL ASSOCIATION 2016-09-30\n",
      "WELLS FARGO BANK, NATIONAL ASSOCIATION 2016-09-30\n",
      "WELLS FARGO BANK, NATIONAL ASSOCIATION 2016-12-31\n",
      "WELLS FARGO BANK, NATIONAL ASSOCIATION 2016-12-31\n",
      "WELLS FARGO BANK, NATIONAL ASSOCIATION 2016-12-31\n",
      "WELLS FARGO BANK, NATIONAL ASSOCIATION 2017-03-31\n",
      "WELLS FARGO BANK, NATIONAL ASSOCIATION 2017-03-31\n"
     ]
    }
   ],
   "source": [
    "for item in collection.find({FDIC_KEY: 3511}).sort(DATE_KEY):\n",
    "    print(item['institution_constants']['financial_institution_name'], item[DATE_KEY])"
   ]
  },
  {
   "cell_type": "markdown",
   "metadata": {},
   "source": [
    "#### Verify that Data is not Duplicate"
   ]
  },
  {
   "cell_type": "code",
   "execution_count": 30,
   "metadata": {},
   "outputs": [],
   "source": [
    "count = 0\n",
    "key_sets = list()\n",
    "for item in collection.find({FDIC_KEY: 3511, DATE_KEY: '2013-12-31'}):\n",
    "    count += 1\n",
    "    key_sets.append(set(item['financials'].keys()))"
   ]
  },
  {
   "cell_type": "code",
   "execution_count": 32,
   "metadata": {},
   "outputs": [],
   "source": [
    "unioned = reduce(lambda a, b: a.union(b), key_sets)"
   ]
  },
  {
   "cell_type": "code",
   "execution_count": 33,
   "metadata": {
    "collapsed": true
   },
   "outputs": [],
   "source": [
    "size = 0\n",
    "\n",
    "for item in key_sets:\n",
    "    size += len(item)"
   ]
  },
  {
   "cell_type": "markdown",
   "metadata": {},
   "source": [
    "It is not"
   ]
  },
  {
   "cell_type": "code",
   "execution_count": 34,
   "metadata": {},
   "outputs": [
    {
     "data": {
      "text/plain": [
       "525"
      ]
     },
     "execution_count": 34,
     "metadata": {},
     "output_type": "execute_result"
    }
   ],
   "source": [
    "size"
   ]
  },
  {
   "cell_type": "code",
   "execution_count": 35,
   "metadata": {},
   "outputs": [
    {
     "data": {
      "text/plain": [
       "525"
      ]
     },
     "execution_count": 35,
     "metadata": {},
     "output_type": "execute_result"
    }
   ],
   "source": [
    "len(unioned)"
   ]
  }
 ],
 "metadata": {
  "kernelspec": {
   "display_name": "Python 3",
   "language": "python",
   "name": "python3"
  },
  "language_info": {
   "codemirror_mode": {
    "name": "ipython",
    "version": 3
   },
   "file_extension": ".py",
   "mimetype": "text/x-python",
   "name": "python",
   "nbconvert_exporter": "python",
   "pygments_lexer": "ipython3",
   "version": "3.6.1"
  }
 },
 "nbformat": 4,
 "nbformat_minor": 2
}
