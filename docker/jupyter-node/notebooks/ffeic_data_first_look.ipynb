{
 "cells": [
  {
   "cell_type": "markdown",
   "metadata": {},
   "source": [
    "# Review FFEIC Data | First Pass"
   ]
  },
  {
   "cell_type": "code",
   "execution_count": 1,
   "metadata": {
    "collapsed": true
   },
   "outputs": [],
   "source": [
    "import pymongo as mongo"
   ]
  },
  {
   "cell_type": "markdown",
   "metadata": {},
   "source": [
    "## Set MongoDB Connection"
   ]
  },
  {
   "cell_type": "code",
   "execution_count": 2,
   "metadata": {
    "collapsed": true
   },
   "outputs": [],
   "source": [
    "client = mongo.MongoClient('mongodb-app')"
   ]
  },
  {
   "cell_type": "code",
   "execution_count": 3,
   "metadata": {},
   "outputs": [
    {
     "data": {
      "text/plain": [
       "['fdic_ffeic', 'local']"
      ]
     },
     "execution_count": 3,
     "metadata": {},
     "output_type": "execute_result"
    }
   ],
   "source": [
    "client.database_names()"
   ]
  },
  {
   "cell_type": "code",
   "execution_count": 4,
   "metadata": {
    "collapsed": true
   },
   "outputs": [],
   "source": [
    "db = client['fdic_ffeic']"
   ]
  },
  {
   "cell_type": "markdown",
   "metadata": {},
   "source": [
    "## Get Collections"
   ]
  },
  {
   "cell_type": "code",
   "execution_count": 5,
   "metadata": {},
   "outputs": [
    {
     "data": {
      "text/plain": [
       "['ffeic_company_info', 'mdrm_info', 'ffeic_reports']"
      ]
     },
     "execution_count": 5,
     "metadata": {},
     "output_type": "execute_result"
    }
   ],
   "source": [
    "db.collection_names()"
   ]
  },
  {
   "cell_type": "code",
   "execution_count": 10,
   "metadata": {
    "collapsed": true
   },
   "outputs": [],
   "source": [
    "ffeic_reports = db['ffeic_reports']\n",
    "mdrm_info = db['mdrm_info']\n",
    "company_info = db['ffeic_company_info']"
   ]
  },
  {
   "cell_type": "markdown",
   "metadata": {},
   "source": [
    "## Review Collections"
   ]
  },
  {
   "cell_type": "markdown",
   "metadata": {},
   "source": [
    "#### FFEIC"
   ]
  },
  {
   "cell_type": "code",
   "execution_count": 11,
   "metadata": {},
   "outputs": [
    {
     "data": {
      "text/plain": [
       "85"
      ]
     },
     "execution_count": 11,
     "metadata": {},
     "output_type": "execute_result"
    }
   ],
   "source": [
    "ffeic_reports.count()"
   ]
  },
  {
   "cell_type": "code",
   "execution_count": 14,
   "metadata": {},
   "outputs": [
    {
     "data": {
      "text/plain": [
       "{'_id': ObjectId('5945e55b9154fe0021175c40'),\n",
       " 'fdic_certificate_number': 3511,\n",
       " 'financial_institution_name': 'WELLS FARGO BANK, NATIONAL ASSOCIATION',\n",
       " 'financials': {'RCFD0071': 200504000.0,\n",
       "  'RCFD0081': 19607000.0,\n",
       "  'RCFD0426': 17298000.0,\n",
       "  'RCFD1248': 12000.0,\n",
       "  'RCFD1249': 10000.0,\n",
       "  'RCFD1250': 5000.0,\n",
       "  'RCFD1251': 418000.0,\n",
       "  'RCFD1252': 7000.0,\n",
       "  'RCFD1253': 2728000.0,\n",
       "  'RCFD1254': 4000.0,\n",
       "  'RCFD1255': 1000.0,\n",
       "  'RCFD1256': 335000.0,\n",
       "  'RCFD1583': 31000.0,\n",
       "  'RCFD1594': 13000.0,\n",
       "  'RCFD1754': 99478000.0,\n",
       "  'RCFD1773': 286478000.0,\n",
       "  'RCFD2130': 11334000.0,\n",
       "  'RCFD2145': 7745000.0,\n",
       "  'RCFD2150': 915000.0,\n",
       "  'RCFD2160': 67157000.0,\n",
       "  'RCFD2170': 1727235000.0,\n",
       "  'RCFD2930': 29006000.0,\n",
       "  'RCFD2948': 1571451000.0,\n",
       "  'RCFD3000': 407000.0,\n",
       "  'RCFD3123': 10502000.0,\n",
       "  'RCFD3163': 22695000.0,\n",
       "  'RCFD3190': 159898000.0,\n",
       "  'RCFD3200': 13200000.0,\n",
       "  'RCFD3210': 155377000.0,\n",
       "  'RCFD3230': 519000.0,\n",
       "  'RCFD3300': 1727235000.0,\n",
       "  'RCFD3505': 58000.0,\n",
       "  'RCFD3506': 7000.0,\n",
       "  'RCFD3507': 15000.0,\n",
       "  'RCFD3545': 36745000.0,\n",
       "  'RCFD3548': 13951000.0,\n",
       "  'RCFD3632': 49373000.0,\n",
       "  'RCFD3656': 233000.0,\n",
       "  'RCFD3839': 106705000.0,\n",
       "  'RCFD5369': 19947000.0,\n",
       "  'RCFD5459': 89000.0,\n",
       "  'RCFD5460': 7000.0,\n",
       "  'RCFD5461': 57000.0,\n",
       "  'RCFD6558': 119000.0,\n",
       "  'RCFD6559': 7000.0,\n",
       "  'RCFD6560': 7000.0,\n",
       "  'RCFDB528': 924819000.0,\n",
       "  'RCFDB529': 914317000.0,\n",
       "  'RCFDB530': -1220000.0,\n",
       "  'RCFDB575': 371000.0,\n",
       "  'RCFDB576': 361000.0,\n",
       "  'RCFDB989': 22705000.0,\n",
       "  'RCFDB995': 9562000.0,\n",
       "  'RCFDC226': 165000.0,\n",
       "  'RCFDC240': 484000.0,\n",
       "  'RCFDC241': 420000.0,\n",
       "  'RCFDC410': 1484000.0,\n",
       "  'RCFDC411': 156000.0,\n",
       "  'RCFDF169': 132000.0,\n",
       "  'RCFDF171': 115000.0,\n",
       "  'RCFDF666': 297000.0,\n",
       "  'RCFDF669': 318000.0,\n",
       "  'RCFDG105': 155784000.0,\n",
       "  'RCFDK036': 3007000.0,\n",
       "  'RCFDK037': 10877000.0,\n",
       "  'RCFDK038': 478000.0,\n",
       "  'RCFDK039': 435000.0,\n",
       "  'RCFDK040': 409000.0,\n",
       "  'RCFDK041': 456000.0,\n",
       "  'RCFDK042': 2506000.0,\n",
       "  'RCFDK043': 10440000.0,\n",
       "  'RCFDK120': 5000.0,\n",
       "  'RCFDK122': 1776000.0,\n",
       "  'RCFDK125': 182000.0,\n",
       "  'RCFDK126': 34000.0,\n",
       "  'RCFDK127': 30000.0,\n",
       "  'RCFDK128': 138000.0,\n",
       "  'RCFDK213': 1504000.0,\n",
       "  'RCFDK214': 108000.0,\n",
       "  'RCFDK215': 97000.0,\n",
       "  'RCFDK216': 291000.0,\n",
       "  'RCFDK217': 116000.0,\n",
       "  'RCFDK218': 51000.0,\n",
       "  'RCFDL183': 2220000.0,\n",
       "  'RCFDL184': 4568000.0,\n",
       "  'RCFDL186': 1589000.0,\n",
       "  'RCFDL187': 1913000.0,\n",
       "  'RCFN2200': 120624000.0,\n",
       "  'RCFN6631': 1115000.0,\n",
       "  'RCFN6636': 119509000.0,\n",
       "  'RCFNB573': 5000.0,\n",
       "  'RCFNB574': 17000.0,\n",
       "  'RCON1754': 99478000,\n",
       "  'RCON1773': 284879000,\n",
       "  'RCON2170': 1669852000,\n",
       "  'RCON2200': 1218766000,\n",
       "  'RCON2948': 1514068000,\n",
       "  'RCON3190': 151678000,\n",
       "  'RCON3493': 7000,\n",
       "  'RCON3495': 37000,\n",
       "  'RCON3499': 46000,\n",
       "  'RCON3500': 1000,\n",
       "  'RCON3501': 37000,\n",
       "  'RCON3545': 34602000.0,\n",
       "  'RCON3548': 12014000.0,\n",
       "  'RCON5398': 406000,\n",
       "  'RCON5399': 74000,\n",
       "  'RCON5400': 1549000,\n",
       "  'RCON6631': 407266000,\n",
       "  'RCON6636': 811500000,\n",
       "  'RCONB987': 77000,\n",
       "  'RCONB989': 18113000,\n",
       "  'RCONB993': 6444000,\n",
       "  'RCONB995': 9253000,\n",
       "  'RCONC229': 3413000,\n",
       "  'RCONC230': 200000,\n",
       "  'RCONC236': 5968000,\n",
       "  'RCONC237': 12867000,\n",
       "  'RCONC238': 68000,\n",
       "  'RCONC239': 7000,\n",
       "  'RCONF172': 30000,\n",
       "  'RCONF173': 11000,\n",
       "  'RCONF174': 9000,\n",
       "  'RCONF176': 7000,\n",
       "  'RCONF177': 42000,\n",
       "  'RCONF178': 86000,\n",
       "  'RCONF179': 93000,\n",
       "  'RCONF180': 38000,\n",
       "  'RCONF181': 12000,\n",
       "  'RCONF182': 393000,\n",
       "  'RCONF183': 196000,\n",
       "  'RCONF661': 606000,\n",
       "  'RCONF662': 1079000,\n",
       "  'RCONF663': 2847000,\n",
       "  'RCONK107': 7000,\n",
       "  'RCONK110': 38000,\n",
       "  'RCONK113': 12000,\n",
       "  'RCONK114': 5000,\n",
       "  'RCONK116': 186000,\n",
       "  'RCONK117': 34000,\n",
       "  'RCONK119': 127000,\n",
       "  'RIAD0093': 447000,\n",
       "  'RIAD3196': 929000,\n",
       "  'RIAD4010': 37383000,\n",
       "  'RIAD4012': 6928000,\n",
       "  'RIAD4020': 264000,\n",
       "  'RIAD4024': 140000.0,\n",
       "  'RIAD4059': 983000.0,\n",
       "  'RIAD4060': 2843000,\n",
       "  'RIAD4065': 885000,\n",
       "  'RIAD4069': 575000,\n",
       "  'RIAD4070': 1952000,\n",
       "  'RIAD4073': 3748000,\n",
       "  'RIAD4074': 45414000,\n",
       "  'RIAD4079': 27858000,\n",
       "  'RIAD4080': 5833000,\n",
       "  'RIAD4092': 12177000,\n",
       "  'RIAD4093': 40918000,\n",
       "  'RIAD4107': 49162000,\n",
       "  'RIAD4115': 1155000,\n",
       "  'RIAD4135': 23082000,\n",
       "  'RIAD4150': 235178,\n",
       "  'RIAD4172': 319000.0,\n",
       "  'RIAD4180': 78000,\n",
       "  'RIAD4185': 1714000,\n",
       "  'RIAD4200': 368000,\n",
       "  'RIAD4217': 4490000,\n",
       "  'RIAD4230': 3571000,\n",
       "  'RIAD4300': 20177000,\n",
       "  'RIAD4301': 29712000,\n",
       "  'RIAD4302': 9535000,\n",
       "  'RIAD4313': 228000,\n",
       "  'RIAD4340': 20179000,\n",
       "  'RIAD4435': 13003000,\n",
       "  'RIAD4436': 4917000,\n",
       "  'RIAD4507': 1188000,\n",
       "  'RIAD4508': 66000,\n",
       "  'RIAD4513': 14000,\n",
       "  'RIAD4518': 160000,\n",
       "  'RIAD5415': 185000,\n",
       "  'RIAD5416': 1233000,\n",
       "  'RIAD8431': 222000.0,\n",
       "  'RIAD8757': 20000.0,\n",
       "  'RIAD8758': 1073000.0,\n",
       "  'RIAD8759': 11000.0,\n",
       "  'RIAD8760': 171000.0,\n",
       "  'RIAD9106': 0,\n",
       "  'RIADA220': 1303000,\n",
       "  'RIADA251': -16000.0,\n",
       "  'RIADA517': 573000,\n",
       "  'RIADA518': 183000,\n",
       "  'RIADA530': False,\n",
       "  'RIADB485': 3528000,\n",
       "  'RIADB486': 5548000,\n",
       "  'RIADB487': 2336000.0,\n",
       "  'RIADB488': 1366000,\n",
       "  'RIADB489': 4531000,\n",
       "  'RIADB491': 0,\n",
       "  'RIADB492': 1866000,\n",
       "  'RIADB493': 40000,\n",
       "  'RIADB496': 25000,\n",
       "  'RIADB497': 14660000,\n",
       "  'RIADC216': 0,\n",
       "  'RIADC232': 1169000,\n",
       "  'RIADC386': 6000,\n",
       "  'RIADC387': 4000,\n",
       "  'RIADC886': 234000,\n",
       "  'RIADC887': 0,\n",
       "  'RIADC888': 517000,\n",
       "  'RIADC889': 0,\n",
       "  'RIADC890': 23000,\n",
       "  'RIADF186': 28000.0,\n",
       "  'RIADF228': 3000.0,\n",
       "  'RIADF551': 323000.0,\n",
       "  'RIADF552': 61000.0,\n",
       "  'RIADF553': 0.0,\n",
       "  'RIADF554': 0.0,\n",
       "  'RIADFT28': 0.0,\n",
       "  'RIADG103': -2000,\n",
       "  'RIADG104': 20177000,\n",
       "  'RIADH032': 1776000.0,\n",
       "  'RIADH033': 737000.0,\n",
       "  'RIADH034': 396000.0,\n",
       "  'RIADH035': 2924000.0,\n",
       "  'RIADJ319': 148000,\n",
       "  'RIADJ320': 24000,\n",
       "  'RIADJ321': 124000,\n",
       "  'RIADK090': 33000.0,\n",
       "  'RIADK094': 32000.0},\n",
       " 'last_datetime_submission_updated_on': '2017-02-03T17:44:00',\n",
       " 'reporting_period_end_date': '2016-12-31'}"
      ]
     },
     "execution_count": 14,
     "metadata": {},
     "output_type": "execute_result"
    }
   ],
   "source": [
    "ffeic_reports.find_one()"
   ]
  },
  {
   "cell_type": "markdown",
   "metadata": {},
   "source": [
    "#### Companies"
   ]
  },
  {
   "cell_type": "code",
   "execution_count": 12,
   "metadata": {},
   "outputs": [
    {
     "data": {
      "text/plain": [
       "5"
      ]
     },
     "execution_count": 12,
     "metadata": {},
     "output_type": "execute_result"
    }
   ],
   "source": [
    "company_info.count()"
   ]
  },
  {
   "cell_type": "code",
   "execution_count": 15,
   "metadata": {},
   "outputs": [
    {
     "data": {
      "text/plain": [
       "{'_id': ObjectId('5945e55b9154fe0021175c54'),\n",
       " 'fdic_certificate_number': 3511,\n",
       " 'financial_institution_name': 'WELLS FARGO BANK, NATIONAL ASSOCIATION',\n",
       " 'identifiers': {'financial_institution_filing_type': 31,\n",
       "  'idrssd': 451965,\n",
       "  'occ_charter_number': 1,\n",
       "  'ots_docket_number': 0,\n",
       "  'primary_aba_routing_number': 121000248},\n",
       " 'location': {'financial_institution_address': '101 NORTH PHILLIPS AVENUE ',\n",
       "  'financial_institution_city': 'SIOUX FALLS',\n",
       "  'financial_institution_state': 'SD',\n",
       "  'financial_institution_zip_code': 57104},\n",
       " 'record_updated': '2016-03-31'}"
      ]
     },
     "execution_count": 15,
     "metadata": {},
     "output_type": "execute_result"
    }
   ],
   "source": [
    "company_info.find_one()"
   ]
  },
  {
   "cell_type": "markdown",
   "metadata": {},
   "source": [
    "#### MDRM"
   ]
  },
  {
   "cell_type": "code",
   "execution_count": 13,
   "metadata": {},
   "outputs": [
    {
     "data": {
      "text/plain": [
       "777"
      ]
     },
     "execution_count": 13,
     "metadata": {},
     "output_type": "execute_result"
    }
   ],
   "source": [
    "mdrm_info.count()"
   ]
  },
  {
   "cell_type": "code",
   "execution_count": 16,
   "metadata": {},
   "outputs": [
    {
     "data": {
      "text/plain": [
       "{'_id': ObjectId('5945e5699154fe0021175c9a'),\n",
       " 'description': 'SAVINGS DEPOSITS (INCLUDING MMDAS)',\n",
       " 'details': {'confidential': 'No',\n",
       "  'description': 'SAVINGS DEPOSITS (INCLUDING MMDAS)',\n",
       "  'end_date': '9999-12-31',\n",
       "  'reporting_forms': 'Multiple Forms',\n",
       "  'start_date': '2001-03-31'},\n",
       " 'mdrm_item': 'RIAD0093'}"
      ]
     },
     "execution_count": 16,
     "metadata": {},
     "output_type": "execute_result"
    }
   ],
   "source": [
    "mdrm_info.find_one()"
   ]
  }
 ],
 "metadata": {
  "kernelspec": {
   "display_name": "Python 3",
   "language": "python",
   "name": "python3"
  },
  "language_info": {
   "codemirror_mode": {
    "name": "ipython",
    "version": 3
   },
   "file_extension": ".py",
   "mimetype": "text/x-python",
   "name": "python",
   "nbconvert_exporter": "python",
   "pygments_lexer": "ipython3",
   "version": "3.6.1"
  }
 },
 "nbformat": 4,
 "nbformat_minor": 2
}
